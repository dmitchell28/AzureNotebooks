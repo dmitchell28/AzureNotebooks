{
  "metadata": {
    "anaconda-cloud": {},
    "kernelspec": {
      "display_name": "Python 3",
      "language": "python",
      "name": "python3"
    },
    "language_info": {
      "mimetype": "text/x-python",
      "nbconvert_exporter": "python",
      "name": "python",
      "pygments_lexer": "ipython3",
      "version": "3.5.4",
      "file_extension": ".py",
      "codemirror_mode": {
        "version": 3,
        "name": "ipython"
      }
    }
  },
  "nbformat_minor": 2,
  "nbformat": 4,
  "cells": [
    {
      "cell_type": "markdown",
      "source": "<p><a name=\"sections\"></a></p>\n\n\n# Sections\n\n- <a href=\"#DS\">Data Structure</a><br>\n- <a href=\"#DM\">Data Manipulation</a><br>\n- <a href=\"#miss\">Handling Missing Data</a><br>\n- <a href=\"#grouping\">Grouping and aggregration</a><br>\n- <a href=\"#time\">Time Series</a><br>\n- <a href=\"#sol\">Solutions</a><br>",
      "metadata": {
        "deletable": true,
        "editable": true
      }
    },
    {
      "cell_type": "markdown",
      "source": "# Pandas\n\n<p><a name=\"DS\"></a></p>\n### Data Structure\n\n- Pandas is a Python package built on top of NumPy.  It is particularly strong in the area of handling spreadsheet structures, dealing with missing data, and processing time series data.\n\n- We will talk about three data structure objects in today's lecture: Series, DataFrame and Time Series.",
      "metadata": {
        "deletable": true,
        "editable": true
      }
    },
    {
      "cell_type": "markdown",
      "source": "These are the new data types introduced by pandas:\n\n- **Series**: 1D labeled homogeneously-typed array.\n- **DataFrame**: General 2D labeled, size-mutable tabular structure with potentially heterogeneously-typed columns.\n- **Time Series**: Series with index containing datetimes.\n\nImport the package, as follows:",
      "metadata": {
        "deletable": true,
        "editable": true
      }
    },
    {
      "cell_type": "code",
      "source": "import numpy as np\nimport pandas as pd",
      "metadata": {
        "collapsed": true,
        "deletable": true,
        "editable": true
      },
      "execution_count": null,
      "outputs": []
    },
    {
      "cell_type": "markdown",
      "source": "<p><a name=\"series\"></a></p>\n## Series\n\n- A series is a one-dimensional array-like object containing homogenously typed elements.   \n- Each element has an associated data label, called its index. By default, the index consists of ordinary array indices, i.e. consecutive integers starting from zero.",
      "metadata": {
        "deletable": true,
        "editable": true
      }
    },
    {
      "cell_type": "code",
      "source": "obj = pd.Series(['a', 'b', 'c', 'd'])\nobj",
      "metadata": {
        "collapsed": false,
        "deletable": true,
        "editable": true
      },
      "execution_count": null,
      "outputs": []
    },
    {
      "cell_type": "code",
      "source": "obj.index  #this is the default index",
      "metadata": {
        "collapsed": false,
        "deletable": true,
        "editable": true
      },
      "execution_count": null,
      "outputs": []
    },
    {
      "cell_type": "markdown",
      "source": "- An entry can be retrieved using the index, as follows:",
      "metadata": {
        "deletable": true,
        "editable": true
      }
    },
    {
      "cell_type": "code",
      "source": "obj[0]",
      "metadata": {
        "collapsed": false,
        "deletable": true,
        "editable": true
      },
      "execution_count": null,
      "outputs": []
    },
    {
      "cell_type": "markdown",
      "source": "- Often it will be more desirable to create a series with a custom index. \n- Here the index is manually set the index from 1 to 4, with 4 repeated. Note there are two rows with the same index 4.",
      "metadata": {
        "deletable": true,
        "editable": true
      }
    },
    {
      "cell_type": "code",
      "source": "obj2 = pd.Series(['a', 'b', 'c', 'd','e'], index=[1, 2, 3, 4, 4])\nobj2",
      "metadata": {
        "collapsed": false,
        "deletable": true,
        "editable": true
      },
      "execution_count": null,
      "outputs": []
    },
    {
      "cell_type": "markdown",
      "source": "- Calling that entry gives both values.  In this way a series is different from a dictionary.",
      "metadata": {
        "deletable": true,
        "editable": true
      }
    },
    {
      "cell_type": "code",
      "source": "obj2.index #custom index",
      "metadata": {
        "collapsed": false,
        "deletable": true,
        "editable": true
      },
      "execution_count": null,
      "outputs": []
    },
    {
      "cell_type": "code",
      "source": "obj2[4]",
      "metadata": {
        "collapsed": false,
        "deletable": true,
        "editable": true
      },
      "execution_count": null,
      "outputs": []
    },
    {
      "cell_type": "markdown",
      "source": "- The index value may also be a string.  A new entry with a string index is written:",
      "metadata": {
        "deletable": true,
        "editable": true
      }
    },
    {
      "cell_type": "code",
      "source": "obj2['something']=660\nobj2",
      "metadata": {
        "collapsed": false,
        "deletable": true,
        "editable": true
      },
      "execution_count": null,
      "outputs": []
    },
    {
      "cell_type": "markdown",
      "source": "- Note the entries are not retrievable by their place but the value of their index.",
      "metadata": {
        "deletable": true,
        "editable": true
      }
    },
    {
      "cell_type": "code",
      "source": "print(obj[1])\nprint(obj2[5]) # This one also works\nprint(obj2[6]) # KeyError",
      "metadata": {
        "collapsed": false,
        "deletable": true,
        "editable": true
      },
      "execution_count": null,
      "outputs": []
    },
    {
      "cell_type": "markdown",
      "source": "- The attribute `values` returns all the values.",
      "metadata": {
        "deletable": true,
        "editable": true
      }
    },
    {
      "cell_type": "code",
      "source": "obj2.values",
      "metadata": {
        "collapsed": false,
        "deletable": true,
        "editable": true
      },
      "execution_count": null,
      "outputs": []
    },
    {
      "cell_type": "code",
      "source": "obj2.values[1]   # obj.values is simply an array ",
      "metadata": {
        "collapsed": false,
        "deletable": true,
        "editable": true
      },
      "execution_count": null,
      "outputs": []
    },
    {
      "cell_type": "markdown",
      "source": "- The **Series** object is similar to a **dictionary**, `Series.index` is like `dictionary.keys`, and `Series.values` is like `dictionary.values`. Directly convert a dictionary to a Series, as follows:",
      "metadata": {
        "deletable": true,
        "editable": true
      }
    },
    {
      "cell_type": "code",
      "source": "dict_ = {1: 'a', 2: 'b', 3: 'c', 4: 'd'}\nobj3 = pd.Series(dict_)\nobj3",
      "metadata": {
        "collapsed": false,
        "deletable": true,
        "editable": true
      },
      "execution_count": null,
      "outputs": []
    },
    {
      "cell_type": "markdown",
      "source": "Convert a Series back to a dictionary.",
      "metadata": {
        "deletable": true,
        "editable": true
      }
    },
    {
      "cell_type": "code",
      "source": "obj3.to_dict()",
      "metadata": {
        "collapsed": false,
        "deletable": true,
        "editable": true
      },
      "execution_count": null,
      "outputs": []
    },
    {
      "cell_type": "markdown",
      "source": "Note what happens in translating a series with repeated index values.  Only the last entry for the repeated index is included in the dictionary.",
      "metadata": {
        "deletable": true,
        "editable": true
      }
    },
    {
      "cell_type": "code",
      "source": "obj2.to_dict()",
      "metadata": {
        "collapsed": false,
        "deletable": true,
        "editable": true
      },
      "execution_count": null,
      "outputs": []
    },
    {
      "cell_type": "markdown",
      "source": "<p><a name=\"DF\"></a></p>\n## DataFrame\n\n- A data frame represents a tabular, spreadsheet-like data structure containing an ordered collection of columns.\n- Each column can be a different type (integers, strings, floating point numbers, Python objects, etc.).  \n- All columns must be the same length, to give the data frame a defined shape.",
      "metadata": {
        "deletable": true,
        "editable": true
      }
    },
    {
      "cell_type": "code",
      "source": "data = {'commodity': ['Gold', 'Gold', 'Silver', 'Silver'],\n        'year': [2013, 2014, 2014, 2015],\n        'production_Moz': [107.6, 109.7, 868.3, 886.7]} #world wide in million oz\n\n# convert to DataFrame\ndf = pd.DataFrame(data)\ndf",
      "metadata": {
        "collapsed": false,
        "deletable": true,
        "editable": true
      },
      "execution_count": null,
      "outputs": []
    },
    {
      "cell_type": "code",
      "source": "df.columns ",
      "metadata": {
        "collapsed": false,
        "deletable": true,
        "editable": true
      },
      "execution_count": null,
      "outputs": []
    },
    {
      "cell_type": "code",
      "source": "df.index #standard index",
      "metadata": {
        "collapsed": false,
        "deletable": true,
        "editable": true
      },
      "execution_count": null,
      "outputs": []
    },
    {
      "cell_type": "code",
      "source": "df.index=([4,5,6,7])\ndf",
      "metadata": {
        "collapsed": false,
        "deletable": true,
        "editable": true
      },
      "execution_count": null,
      "outputs": []
    },
    {
      "cell_type": "code",
      "source": "df.index #custom integer index",
      "metadata": {
        "collapsed": false,
        "deletable": true,
        "editable": true
      },
      "execution_count": null,
      "outputs": []
    },
    {
      "cell_type": "markdown",
      "source": "- The index may be set using the method `set_index`, as follows:",
      "metadata": {
        "deletable": true,
        "editable": true
      }
    },
    {
      "cell_type": "code",
      "source": "df=df.set_index('commodity')\ndf",
      "metadata": {
        "collapsed": false,
        "deletable": true,
        "editable": true
      },
      "execution_count": null,
      "outputs": []
    },
    {
      "cell_type": "code",
      "source": "df.index #custom string index",
      "metadata": {
        "collapsed": false,
        "deletable": true,
        "editable": true
      },
      "execution_count": null,
      "outputs": []
    },
    {
      "cell_type": "code",
      "source": "#floats can also be an index\ndf.set_index('production_Moz').index ",
      "metadata": {
        "collapsed": false,
        "deletable": true,
        "editable": true
      },
      "execution_count": null,
      "outputs": []
    },
    {
      "cell_type": "code",
      "source": "df",
      "metadata": {
        "collapsed": false,
        "deletable": true,
        "editable": true
      },
      "execution_count": null,
      "outputs": []
    },
    {
      "cell_type": "code",
      "source": "df['year'] #this yields a pandas series",
      "metadata": {
        "collapsed": false,
        "deletable": true,
        "editable": true
      },
      "execution_count": null,
      "outputs": []
    },
    {
      "cell_type": "code",
      "source": "df[['year']] #this yields a pandas data frame",
      "metadata": {
        "collapsed": false,
        "deletable": true,
        "editable": true
      },
      "execution_count": null,
      "outputs": []
    },
    {
      "cell_type": "markdown",
      "source": "- The dataframe can restore the original index using the mathod `reset_index`, as follows:",
      "metadata": {
        "deletable": true,
        "editable": true
      }
    },
    {
      "cell_type": "code",
      "source": "df = df.reset_index()\ndf",
      "metadata": {
        "collapsed": false,
        "deletable": true,
        "editable": true
      },
      "execution_count": null,
      "outputs": []
    },
    {
      "cell_type": "markdown",
      "source": "- A data frame can also be created with a nested list. The two ways are equivalent.",
      "metadata": {
        "deletable": true,
        "editable": true
      }
    },
    {
      "cell_type": "code",
      "source": "df_2=pd.DataFrame([[107.6, 'Gold', 2013],\n                   [109.7, 'Gold', 2014],\n                   [868.3, 'Silver', 2014],\n                   [886.7, 'Silver', 2015]], \n                    columns=['production_Moz','commodity','year'])\ndf_2",
      "metadata": {
        "collapsed": false,
        "deletable": true,
        "editable": true
      },
      "execution_count": null,
      "outputs": []
    },
    {
      "cell_type": "markdown",
      "source": "- A data frame has an attribute **values**, which is of the multidimensional array type.",
      "metadata": {
        "deletable": true,
        "editable": true
      }
    },
    {
      "cell_type": "code",
      "source": "print(type(df.values))",
      "metadata": {
        "collapsed": false,
        "deletable": true,
        "editable": true
      },
      "execution_count": null,
      "outputs": []
    },
    {
      "cell_type": "code",
      "source": "print(df.values)\nprint('-'*55)\nprint(df_2.values)",
      "metadata": {
        "collapsed": false,
        "deletable": true,
        "editable": true
      },
      "execution_count": null,
      "outputs": []
    },
    {
      "cell_type": "markdown",
      "source": "- data frame v.s. series is similar to 2D array v.s. 1D array. A data frame has column names for the additional dimension.",
      "metadata": {
        "deletable": true,
        "editable": true
      }
    },
    {
      "cell_type": "code",
      "source": "print(type(df.columns))",
      "metadata": {
        "collapsed": false,
        "deletable": true,
        "editable": true
      },
      "execution_count": null,
      "outputs": []
    },
    {
      "cell_type": "code",
      "source": "print(df.columns)  # column name",
      "metadata": {
        "collapsed": false,
        "deletable": true,
        "editable": true
      },
      "execution_count": null,
      "outputs": []
    },
    {
      "cell_type": "code",
      "source": "df.columns.tolist()",
      "metadata": {
        "collapsed": false,
        "deletable": true,
        "editable": true
      },
      "execution_count": null,
      "outputs": []
    },
    {
      "cell_type": "markdown",
      "source": "- Each column in a DataFrame can be retrieved as a Series. \n- There are two ways to get the column: to retrieve by attribute and to retrieve by dictionary-like notation.",
      "metadata": {
        "deletable": true,
        "editable": true
      }
    },
    {
      "cell_type": "code",
      "source": "df.year         # retrieve by attribute",
      "metadata": {
        "collapsed": false,
        "deletable": true,
        "editable": true
      },
      "execution_count": null,
      "outputs": []
    },
    {
      "cell_type": "code",
      "source": "df['year']  # retrieve by dictionary-like notation",
      "metadata": {
        "collapsed": false,
        "deletable": true,
        "editable": true
      },
      "execution_count": null,
      "outputs": []
    },
    {
      "cell_type": "markdown",
      "source": "- The name of an individual column may be changed as follows:",
      "metadata": {
        "deletable": true,
        "editable": true
      }
    },
    {
      "cell_type": "code",
      "source": "df.columns=['commodity', 'com','production']\ndf",
      "metadata": {
        "collapsed": false,
        "deletable": true,
        "editable": true
      },
      "execution_count": null,
      "outputs": []
    },
    {
      "cell_type": "code",
      "source": "df.columns = df.columns.str.replace('com','metal')\ndf",
      "metadata": {
        "collapsed": false,
        "deletable": true,
        "editable": true
      },
      "execution_count": null,
      "outputs": []
    },
    {
      "cell_type": "markdown",
      "source": "- Indexing a pandas data frame is similar to indexing a numpy array. In pandas the first index retrieves a column and the second index retrieves the row.  \n- To return the third element of the metal column, use the following:",
      "metadata": {
        "deletable": true,
        "editable": true
      }
    },
    {
      "cell_type": "code",
      "source": "df['metal'][2]",
      "metadata": {
        "collapsed": false,
        "deletable": true,
        "editable": true
      },
      "execution_count": null,
      "outputs": []
    },
    {
      "cell_type": "markdown",
      "source": "- Slicing a pandas data frame is also similar to slicing a numpy array.  The following code returns the second and third elements of the production column.",
      "metadata": {
        "deletable": true,
        "editable": true
      }
    },
    {
      "cell_type": "code",
      "source": "df['production'][1:3]",
      "metadata": {
        "collapsed": false,
        "deletable": true,
        "editable": true
      },
      "execution_count": null,
      "outputs": []
    },
    {
      "cell_type": "markdown",
      "source": "- In order to slice multiple columns pass a list of column names.  The following represents the world production of gold and silver in 2014.",
      "metadata": {
        "deletable": true,
        "editable": true
      }
    },
    {
      "cell_type": "code",
      "source": "df[['metal','production']][1:3]",
      "metadata": {
        "collapsed": false,
        "deletable": true,
        "editable": true
      },
      "execution_count": null,
      "outputs": []
    },
    {
      "cell_type": "markdown",
      "source": "** Exercise 1** \n\nCreate a Pandas DataFrame, named 'NYC', whose columns are 'boro', 'pop' and 'area'. The frame represents the five boroughs of New York City, including the 2010 census population (in millions),and land area in square miles.  The rows represent the following:\n\n- The Bronx is 42 square miles.  In the 2010 census, the Bronx had 1.39 million people.\n- Manhattan, with 2010 population 1.59 million, has an area of 23 square miles.\n- Brooklyn is 71 square miles.  The 2010 population was 2.47 million.\n- In 2010, Staten Island had 0.44 million inhabitants.  It is 59 square miles.\n- 2.23 million people lived across the 109 square miles of Queens, in 2010.\n\nCreate a new column representing the population density using:\n```\nNYC['density']=NYC['pop']/NYC['area']\n```\n\nNow set the index of NYC to be the borough names using `set_index` function of a data frame. Make sure to update the data frame.",
      "metadata": {
        "deletable": true,
        "editable": true
      }
    },
    {
      "cell_type": "code",
      "source": "#### Your code here\n",
      "metadata": {
        "collapsed": true,
        "deletable": true,
        "editable": true
      },
      "execution_count": null,
      "outputs": []
    },
    {
      "cell_type": "markdown",
      "source": "<p><a name=\"IO\"></a></p>\n## I/O tools\n\n- Pandas has a number of functions for reading tabular data as a data frame object.",
      "metadata": {
        "deletable": true,
        "editable": true
      }
    },
    {
      "cell_type": "code",
      "source": "# The below command prompt is not supported on this platform, please click and open the file directly to view its contents\n# !cat foo.csv\n# !type foo.csv # Windows user",
      "metadata": {
        "collapsed": false,
        "deletable": true,
        "editable": true
      },
      "execution_count": null,
      "outputs": []
    },
    {
      "cell_type": "code",
      "source": "pd.read_csv('foo.csv')",
      "metadata": {
        "collapsed": false,
        "deletable": true,
        "editable": true
      },
      "execution_count": null,
      "outputs": []
    },
    {
      "cell_type": "markdown",
      "source": "- In some cases, there is no header in the file. By setting `header = None`, the column names will be filled with incremental numbers.",
      "metadata": {
        "deletable": true,
        "editable": true
      }
    },
    {
      "cell_type": "code",
      "source": "# The below command prompt is not supported on this platform, please click and open the file directly to view its contents\n# !cat foo_noheader.csv",
      "metadata": {
        "collapsed": false,
        "deletable": true,
        "editable": true
      },
      "execution_count": null,
      "outputs": []
    },
    {
      "cell_type": "code",
      "source": "my_df=pd.read_csv('foo_noheader.csv', header = None)\nmy_df",
      "metadata": {
        "collapsed": false,
        "deletable": true,
        "editable": true
      },
      "execution_count": null,
      "outputs": []
    },
    {
      "cell_type": "markdown",
      "source": "- The column names may then be set, as follows:",
      "metadata": {
        "deletable": true,
        "editable": true
      }
    },
    {
      "cell_type": "code",
      "source": "my_df.columns=['a', 'b', 'c', 'd', 'message']\nmy_df",
      "metadata": {
        "collapsed": false,
        "deletable": true,
        "editable": true
      },
      "execution_count": null,
      "outputs": []
    },
    {
      "cell_type": "markdown",
      "source": "- Another way is to pass the column names (as a list of strings) to the `names` parameter in `read_csv`.  \n- Note the parameter is called \"names\" instead of \"columns\".",
      "metadata": {
        "deletable": true,
        "editable": true
      }
    },
    {
      "cell_type": "code",
      "source": "# Set the names manually\npd.read_csv('foo_noheader.csv', \n             names=['a', 'b', 'c', 'd', 'message'])",
      "metadata": {
        "collapsed": false,
        "deletable": true,
        "editable": true
      },
      "execution_count": null,
      "outputs": []
    },
    {
      "cell_type": "markdown",
      "source": "- Importing files has been covered. This exercise demonstrates file exporting.\n\n**Exercise 2** \n\n- Write the data frame, `NYC`, to a file, NYC.csv. The function `to_csv` is useful for this task.\n- Now load 'NYC.csv' to a data frame named NYC2.",
      "metadata": {
        "deletable": true,
        "editable": true
      }
    },
    {
      "cell_type": "code",
      "source": "#### Your code here",
      "metadata": {
        "collapsed": false,
        "deletable": true,
        "editable": true
      },
      "execution_count": null,
      "outputs": []
    },
    {
      "cell_type": "code",
      "source": "NYC",
      "metadata": {
        "collapsed": true,
        "deletable": true,
        "editable": true
      },
      "execution_count": null,
      "outputs": []
    },
    {
      "cell_type": "code",
      "source": "NYC2=pd.read_csv('NYC.csv', index_col=0) # use the first column as index\nNYC2",
      "metadata": {
        "collapsed": true,
        "deletable": true,
        "editable": true
      },
      "execution_count": null,
      "outputs": []
    },
    {
      "cell_type": "markdown",
      "source": "<p><a name=\"DM\"></a></p>\n# Data Manipulation in Pandas\n\n- Like numpy, pandas defines many broadcast operations, as well as numerous methods of manipulating data.\n\n<p><a name=\"concat\"></a></p>\n### concat\nPandas DataFrames can be expanded in both directions. First create two data frames.",
      "metadata": {
        "deletable": true,
        "editable": true
      }
    },
    {
      "cell_type": "code",
      "source": "df1 = pd.DataFrame(np.arange(9).reshape((3, 3)), \n                   columns=['a', 'b', 'c'],\n                   index=['one', 'two', 'three'])\ndf2 = pd.DataFrame(np.arange(6).reshape((3, 2)), \n                   columns=['d','e'],\n                   index=['three', 'two','one'])\ndf1",
      "metadata": {
        "collapsed": false,
        "deletable": true,
        "editable": true
      },
      "execution_count": null,
      "outputs": []
    },
    {
      "cell_type": "code",
      "source": "df2",
      "metadata": {
        "collapsed": false,
        "deletable": true,
        "editable": true
      },
      "execution_count": null,
      "outputs": []
    },
    {
      "cell_type": "markdown",
      "source": "- Since the two data frames have the same number of rows, it is natural to combine them \"horizontally\".  \n- Note the concatenation takes place on the name of the index and not the order.",
      "metadata": {
        "deletable": true,
        "editable": true
      }
    },
    {
      "cell_type": "code",
      "source": "pd.concat([df1, df2], axis = 1)",
      "metadata": {
        "collapsed": false,
        "deletable": true,
        "editable": true
      },
      "execution_count": null,
      "outputs": []
    },
    {
      "cell_type": "markdown",
      "source": "- The argument \"axis = 1\" means expanding along the column indices. Setting \"axis = 0\" will combine two data frames with same number of columns vertically. \n\n- Now changing the name of row 'one' to One' gives it a different index.  In this case the concatenation will use all the rows, filling in missing values with NaN.",
      "metadata": {
        "deletable": true,
        "editable": true
      }
    },
    {
      "cell_type": "code",
      "source": "df1 = pd.DataFrame(np.arange(9).reshape((3, 3)), \n                   columns=['a', 'b', 'c'],\n                   index=['One', 'two', 'three'])\ndf2 = pd.DataFrame(np.arange(6).reshape((3, 2)), \n                   columns=['d','e'],\n                   index=['three', 'two','one'])\nprint(df1,'\\n\\n',df2)",
      "metadata": {
        "collapsed": false,
        "deletable": true,
        "editable": true
      },
      "execution_count": null,
      "outputs": []
    },
    {
      "cell_type": "code",
      "source": "pd.concat([df1, df2], axis = 1)",
      "metadata": {
        "collapsed": false,
        "deletable": true,
        "editable": true
      },
      "execution_count": null,
      "outputs": []
    },
    {
      "cell_type": "markdown",
      "source": "- To include only the shared rows, set the join parameter to 'inner', as following:",
      "metadata": {
        "deletable": true,
        "editable": true
      }
    },
    {
      "cell_type": "code",
      "source": "pd.concat([df1, df2], axis = 1, join='inner')",
      "metadata": {
        "collapsed": false,
        "deletable": true,
        "editable": true
      },
      "execution_count": null,
      "outputs": []
    },
    {
      "cell_type": "markdown",
      "source": "**Exercise 3**\n\nIn the iPython notebook, create the data frame below.  Observe that this is a data frame with new features.  \n\nThere are three new features:\n\n- **high_point** is the location of highest elevation \n- **geography** indicates if the borough is an island, on an island, or mainland\n- **inception** indicates the year of incorporation into the City of New York\n\nCombine 'new_features' with the old NYC data frame to make a new data frame named 'NYC3'.",
      "metadata": {
        "deletable": true,
        "editable": true
      }
    },
    {
      "cell_type": "code",
      "source": "new_features = pd.DataFrame({'high_point': ['Battle Hill', 'Chapel Farm', 'North Glen Oaks', 'Bennett Park','Todt Hill'],\\\n                            'geography':['on island','on mainland','on island','is an island','is an island'],\\\n                           'inception':['1634','1898','1683','1624','1683']},\\\n                            index=['Brooklyn', 'Bronx', 'Queens', 'Manhattan',\"Staten Island\"])\nnew_features",
      "metadata": {
        "collapsed": false,
        "deletable": true,
        "editable": true
      },
      "execution_count": null,
      "outputs": []
    },
    {
      "cell_type": "code",
      "source": "#### Your code here\n",
      "metadata": {
        "collapsed": true,
        "deletable": true,
        "editable": true
      },
      "execution_count": null,
      "outputs": []
    },
    {
      "cell_type": "markdown",
      "source": "<p><a name=\"sort\"></a></p>\n### sort\n- It is possible to order the rows of data frames using `sort_values()`.  This object method takes a column name as an argument.\n- It is used on the new_features data frame to order by date of inception, as follows:\n",
      "metadata": {
        "deletable": true,
        "editable": true
      }
    },
    {
      "cell_type": "code",
      "source": "new_features.sort_values('inception')",
      "metadata": {
        "collapsed": false,
        "deletable": true,
        "editable": true
      },
      "execution_count": null,
      "outputs": []
    },
    {
      "cell_type": "markdown",
      "source": "By default the sort is done in ascending order.  To apply the sort in decending order, set the `ascending` parameter to `False`.",
      "metadata": {
        "deletable": true,
        "editable": true
      }
    },
    {
      "cell_type": "code",
      "source": "new_features.sort_values('inception',ascending=False)",
      "metadata": {
        "collapsed": false,
        "deletable": true,
        "editable": true
      },
      "execution_count": null,
      "outputs": []
    },
    {
      "cell_type": "markdown",
      "source": "<p><a name=\"merge\"></a></p>\n### merge\nMerging is the most common way to combine multiple data frames. Create two data frames first.",
      "metadata": {
        "deletable": true,
        "editable": true
      }
    },
    {
      "cell_type": "code",
      "source": "df3 = pd.DataFrame([['a','b','c'],['d','e','f'],['g','h','i']]\\\n                   ,columns=['col1','col2','col3'])\ndf4 = pd.DataFrame({'col2':['x','e','b','z'],'col4':[1,2,3,4],'col5':['i','f','e','h']})\ndf3",
      "metadata": {
        "collapsed": false,
        "deletable": true,
        "editable": true
      },
      "execution_count": null,
      "outputs": []
    },
    {
      "cell_type": "code",
      "source": "df4",
      "metadata": {
        "collapsed": false,
        "deletable": true,
        "editable": true
      },
      "execution_count": null,
      "outputs": []
    },
    {
      "cell_type": "markdown",
      "source": "- Merging will use the **`on`** column as a key for the merge.  The code below identifies the column ‘col2’ from both data frames. \n- The argument **`how`** set to 'inner' makes the merge only keep rows occuring in both data frames.",
      "metadata": {
        "deletable": true,
        "editable": true
      }
    },
    {
      "cell_type": "code",
      "source": "pd.merge(df3, df4, how='inner', on ='col2')",
      "metadata": {
        "collapsed": false,
        "deletable": true,
        "editable": true
      },
      "execution_count": null,
      "outputs": []
    },
    {
      "cell_type": "markdown",
      "source": "- The default value of the parameter `how` is 'inner'. The following code performs the same task as above.",
      "metadata": {
        "deletable": true,
        "editable": true
      }
    },
    {
      "cell_type": "code",
      "source": "pd.merge(df3, df4, on ='col2')",
      "metadata": {
        "collapsed": false,
        "deletable": true,
        "editable": true
      },
      "execution_count": null,
      "outputs": []
    },
    {
      "cell_type": "markdown",
      "source": "- To keep every row in df1 then set the parameter `how` = 'left'.",
      "metadata": {
        "deletable": true,
        "editable": true
      }
    },
    {
      "cell_type": "code",
      "source": "pd.merge(df3, df4, how='left', on ='col2')",
      "metadata": {
        "collapsed": false,
        "deletable": true,
        "editable": true
      },
      "execution_count": null,
      "outputs": []
    },
    {
      "cell_type": "markdown",
      "source": "- To keep all rows from both df1 and df2, set the parameter `how` = 'outer'.",
      "metadata": {
        "deletable": true,
        "editable": true
      }
    },
    {
      "cell_type": "code",
      "source": "pd.merge(df3, df4, how='outer', on ='col2')",
      "metadata": {
        "collapsed": false,
        "deletable": true,
        "editable": true
      },
      "execution_count": null,
      "outputs": []
    },
    {
      "cell_type": "markdown",
      "source": "- If the `on` column does not have the same name in the two data frames, use 'left_on' and 'right_on' to indicate how to perform the merge.  \n- Note that columns with the same name, in the two data frames, will be named with an x or y character appended.",
      "metadata": {
        "deletable": true,
        "editable": true
      }
    },
    {
      "cell_type": "code",
      "source": "pd.merge(df3, df4, left_on='col2', right_on='col5')",
      "metadata": {
        "collapsed": false,
        "deletable": true,
        "editable": true
      },
      "execution_count": null,
      "outputs": []
    },
    {
      "cell_type": "markdown",
      "source": "**Exercise 4**\n\n- Run the following code to create a data frame, 'Elevations'. It contains NYC locations and their elevation in feet.  How is this related to the NYC data frame? Why separate this information into another data frame?\n- Combine this data with the full NYC3 data frame to make a new data frame named NYC4.\n- Note NYC3 is indexed using boro, we want to keep it after the merge.\n- Change the name of the elevation column to 'peak_elevation'.\n- Order the data frame by highest to lowest 'peak_elevation'.",
      "metadata": {
        "deletable": true,
        "editable": true
      }
    },
    {
      "cell_type": "code",
      "source": "Elevations = pd.DataFrame([['Battle Hill',220],['Marcus Garvey Park',103],['Bennett Park',265],\\\n                           ['Todt Hill',410],['Washington Square Park',27],['Chapel Farm',280],\\\n                           ['Bryant Park',58],['North Glen Oaks',258],['St Marys Park',47]],\n                      columns=['location', 'elevation'])\nElevations",
      "metadata": {
        "collapsed": false,
        "deletable": true,
        "editable": true
      },
      "execution_count": null,
      "outputs": []
    },
    {
      "cell_type": "code",
      "source": "# Your code here\n",
      "metadata": {
        "collapsed": true,
        "deletable": true,
        "editable": true
      },
      "execution_count": null,
      "outputs": []
    },
    {
      "cell_type": "markdown",
      "source": "<p><a name=\"SF\"></a></p>\n### selection and filter\n\n- The `loc` method provides purely label (index/columns)-based indexing. \n- This method allows selection from a data frame by index and columns. ",
      "metadata": {
        "deletable": true,
        "editable": true
      }
    },
    {
      "cell_type": "code",
      "source": "df1",
      "metadata": {
        "collapsed": false,
        "deletable": true,
        "editable": true
      },
      "execution_count": null,
      "outputs": []
    },
    {
      "cell_type": "markdown",
      "source": "The following returns a single column of df1.",
      "metadata": {
        "deletable": true,
        "editable": true
      }
    },
    {
      "cell_type": "code",
      "source": "df1['a'] #gives series",
      "metadata": {
        "collapsed": false,
        "deletable": true,
        "editable": true
      },
      "execution_count": null,
      "outputs": []
    },
    {
      "cell_type": "code",
      "source": "df1[1] #this throws an error",
      "metadata": {
        "collapsed": false,
        "deletable": true,
        "editable": true
      },
      "execution_count": null,
      "outputs": []
    },
    {
      "cell_type": "code",
      "source": "type(df1['a'])",
      "metadata": {
        "collapsed": false,
        "deletable": true,
        "editable": true
      },
      "execution_count": null,
      "outputs": []
    },
    {
      "cell_type": "code",
      "source": "df1[['a']] #gives a single column data frame",
      "metadata": {
        "collapsed": false,
        "deletable": true,
        "editable": true
      },
      "execution_count": null,
      "outputs": []
    },
    {
      "cell_type": "code",
      "source": "df1[['a','c']] #gives a multi column data frame",
      "metadata": {
        "collapsed": false,
        "deletable": true,
        "editable": true
      },
      "execution_count": null,
      "outputs": []
    },
    {
      "cell_type": "markdown",
      "source": "- The following uses `loc` to return a single row of df1, using the index string name.",
      "metadata": {
        "deletable": true,
        "editable": true
      }
    },
    {
      "cell_type": "code",
      "source": "df1.loc['two'] # the row that has index two",
      "metadata": {
        "collapsed": false,
        "deletable": true,
        "editable": true
      },
      "execution_count": null,
      "outputs": []
    },
    {
      "cell_type": "code",
      "source": "df1.loc[['two']] # the row that has index two",
      "metadata": {
        "collapsed": false,
        "deletable": true,
        "editable": true
      },
      "execution_count": null,
      "outputs": []
    },
    {
      "cell_type": "markdown",
      "source": "- A second parameter is passed to loc to specify the chosen column. For example:",
      "metadata": {
        "deletable": true,
        "editable": true
      }
    },
    {
      "cell_type": "code",
      "source": "df1.loc['two', 'b'] # the row that has index two and column b",
      "metadata": {
        "collapsed": false,
        "deletable": true,
        "editable": true
      },
      "execution_count": null,
      "outputs": []
    },
    {
      "cell_type": "markdown",
      "source": "- Note the two ways to accomplish this:",
      "metadata": {
        "deletable": true,
        "editable": true
      }
    },
    {
      "cell_type": "code",
      "source": "print(df1.loc['two', 'b'])\nprint(df1['b'][1])",
      "metadata": {
        "collapsed": false,
        "deletable": true,
        "editable": true
      },
      "execution_count": null,
      "outputs": []
    },
    {
      "cell_type": "markdown",
      "source": "- Fancy indexing can be done with `loc` in pandas, as was done in Numpy. Select a row with a condition, as follows. \n- The code below returns all columns for the rows in which column 'a' is zero.",
      "metadata": {
        "deletable": true,
        "editable": true
      }
    },
    {
      "cell_type": "code",
      "source": "df1.loc[df1.a==0,:]",
      "metadata": {
        "collapsed": false,
        "deletable": true,
        "editable": true
      },
      "execution_count": null,
      "outputs": []
    },
    {
      "cell_type": "markdown",
      "source": "- Columns are selected in a similar way.  The code below returns all rows for the columns in which row 'one' is zero.",
      "metadata": {
        "deletable": true,
        "editable": true
      }
    },
    {
      "cell_type": "code",
      "source": "df1.loc[:, df1.loc['One']==0]",
      "metadata": {
        "collapsed": false,
        "deletable": true,
        "editable": true
      },
      "execution_count": null,
      "outputs": []
    },
    {
      "cell_type": "markdown",
      "source": "- Note: loc only accepts labels as input. If you try to use numbers, it will give you an error. For example:",
      "metadata": {
        "deletable": true,
        "editable": true
      }
    },
    {
      "cell_type": "code",
      "source": "df1.loc[1, 2]",
      "metadata": {
        "collapsed": false,
        "deletable": true,
        "editable": true
      },
      "execution_count": null,
      "outputs": []
    },
    {
      "cell_type": "markdown",
      "source": "- To select data by position number, use iloc. The iloc method provides a purely position based indexing.",
      "metadata": {
        "deletable": true,
        "editable": true
      }
    },
    {
      "cell_type": "code",
      "source": "# select as a matrix \n# row 2, col 3\ndf1.iloc[1, 2]",
      "metadata": {
        "collapsed": false,
        "deletable": true,
        "editable": true
      },
      "execution_count": null,
      "outputs": []
    },
    {
      "cell_type": "code",
      "source": "# first row, first two columns\n# return a Series\nrow1 = df1.iloc[0,:2]\nrow1",
      "metadata": {
        "collapsed": false,
        "deletable": true,
        "editable": true
      },
      "execution_count": null,
      "outputs": []
    },
    {
      "cell_type": "markdown",
      "source": "- You can also use a list to slice the dataframe.",
      "metadata": {
        "deletable": true,
        "editable": true
      }
    },
    {
      "cell_type": "code",
      "source": "df1.iloc[[0,2], :2]",
      "metadata": {
        "collapsed": false,
        "deletable": true,
        "editable": true
      },
      "execution_count": null,
      "outputs": []
    },
    {
      "cell_type": "code",
      "source": "NYC4 #look at NYC4 again",
      "metadata": {
        "collapsed": false,
        "deletable": true,
        "editable": true
      },
      "execution_count": null,
      "outputs": []
    },
    {
      "cell_type": "code",
      "source": "#get the i=2 and i=4 column of NYC4\nNYC4.iloc[:,[2,4]]",
      "metadata": {
        "collapsed": false,
        "deletable": true,
        "editable": true
      },
      "execution_count": null,
      "outputs": []
    },
    {
      "cell_type": "markdown",
      "source": "- DataFrame’s apply method applies a function on 1D arrays to each column or row.",
      "metadata": {
        "deletable": true,
        "editable": true
      }
    },
    {
      "cell_type": "code",
      "source": "df1.apply(lambda x: max(x), axis=0) # 0 stands for apply to each column",
      "metadata": {
        "collapsed": false,
        "deletable": true,
        "editable": true
      },
      "execution_count": null,
      "outputs": []
    },
    {
      "cell_type": "code",
      "source": "df1.apply(lambda x: min(x), axis=1) # 1 stands for apply to each row",
      "metadata": {
        "collapsed": false,
        "deletable": true,
        "editable": true
      },
      "execution_count": null,
      "outputs": []
    },
    {
      "cell_type": "markdown",
      "source": "- If you just want to apply the function to a single column, you can extract that specific series first and then call the `map()` method just like the `map` operator in Python. ",
      "metadata": {
        "deletable": true,
        "editable": true
      }
    },
    {
      "cell_type": "code",
      "source": "df1.a.map(lambda x: x+1)",
      "metadata": {
        "collapsed": false,
        "deletable": true,
        "editable": true
      },
      "execution_count": null,
      "outputs": []
    },
    {
      "cell_type": "markdown",
      "source": "### Removing data",
      "metadata": {
        "deletable": true,
        "editable": true
      }
    },
    {
      "cell_type": "code",
      "source": "#this removes row 'two'\ndf1.loc[df1.index != 'two']",
      "metadata": {
        "collapsed": false,
        "deletable": true,
        "editable": true
      },
      "execution_count": null,
      "outputs": []
    },
    {
      "cell_type": "code",
      "source": "#this removes column 'a'\ndf1.drop('a', 1)",
      "metadata": {
        "collapsed": false,
        "deletable": true,
        "editable": true
      },
      "execution_count": null,
      "outputs": []
    },
    {
      "cell_type": "markdown",
      "source": "- Rows and columns may also be removed using fancy indexing or `drop()`.",
      "metadata": {
        "deletable": true,
        "editable": true
      }
    },
    {
      "cell_type": "code",
      "source": "#this removes column b\ndf1.loc[:,df1.columns != 'b']",
      "metadata": {
        "collapsed": false,
        "deletable": true,
        "editable": true
      },
      "execution_count": null,
      "outputs": []
    },
    {
      "cell_type": "code",
      "source": "# remember the following expression is a boolean and acts as a mask\ndf1.columns != 'b'",
      "metadata": {
        "collapsed": false,
        "deletable": true,
        "editable": true
      },
      "execution_count": null,
      "outputs": []
    },
    {
      "cell_type": "code",
      "source": "#this removes column 'b'\ndf1.drop('b', axis=1)",
      "metadata": {
        "collapsed": false,
        "deletable": true,
        "editable": true
      },
      "execution_count": null,
      "outputs": []
    },
    {
      "cell_type": "markdown",
      "source": "<p><a name=\"miss\"></a></p>\n# Handling Missing Data\n\n- Missing or, equivalently, corrupt data is an unavoidable reality in processing large data sets.  There are various ways of dealing with it, depending upon the circumstances:\n - Discard it, and all related data.\n - Interpolate values from surrounding data\n - Isolate it and analyze it separately\n\n- Which approach to use is a scientific question.  Whatever approach is chosen, pandas has computational methods to carry it out.\n- Read a csv file that contains NaNs. **Note:** index_col is set to 0.  This means the first column is used as the index.",
      "metadata": {
        "deletable": true,
        "editable": true
      }
    },
    {
      "cell_type": "code",
      "source": "df_miss = pd.read_csv('missing.csv',index_col=0)\ndf_miss",
      "metadata": {
        "collapsed": false,
        "deletable": true,
        "editable": true
      },
      "execution_count": null,
      "outputs": []
    },
    {
      "cell_type": "markdown",
      "source": "- To figure out where the missing data is, use the `isnull()` method.",
      "metadata": {
        "deletable": true,
        "editable": true
      }
    },
    {
      "cell_type": "code",
      "source": "df_miss.isnull()",
      "metadata": {
        "collapsed": false,
        "deletable": true,
        "editable": true
      },
      "execution_count": null,
      "outputs": []
    },
    {
      "cell_type": "markdown",
      "source": "- How many missing values are there in the dataframe?",
      "metadata": {
        "deletable": true,
        "editable": true
      }
    },
    {
      "cell_type": "code",
      "source": "sum(df_miss.isnull()) # Built-in sum doesn't work",
      "metadata": {
        "collapsed": false,
        "deletable": true,
        "editable": true
      },
      "execution_count": null,
      "outputs": []
    },
    {
      "cell_type": "markdown",
      "source": "- Summing up the boolean array reports how many missing values are in each column.",
      "metadata": {
        "deletable": true,
        "editable": true
      }
    },
    {
      "cell_type": "code",
      "source": "np.sum(df_miss.isnull())",
      "metadata": {
        "collapsed": false,
        "deletable": true,
        "editable": true
      },
      "execution_count": null,
      "outputs": []
    },
    {
      "cell_type": "markdown",
      "source": "- The same is possible for rows by setting the axis parameter to 1.",
      "metadata": {
        "deletable": true,
        "editable": true
      }
    },
    {
      "cell_type": "code",
      "source": "np.sum(df_miss.isnull(), axis=1)",
      "metadata": {
        "collapsed": false,
        "deletable": true,
        "editable": true
      },
      "execution_count": null,
      "outputs": []
    },
    {
      "cell_type": "markdown",
      "source": "- To isolate the rows in which there are null values, aggregate the `df.isnull()` boolean data frame along rows, using `any` with `axis=1`.",
      "metadata": {
        "deletable": true,
        "editable": true
      }
    },
    {
      "cell_type": "code",
      "source": "mask=df_miss.isnull().any(axis=1)\nmask",
      "metadata": {
        "collapsed": false,
        "deletable": true,
        "editable": true
      },
      "execution_count": null,
      "outputs": []
    },
    {
      "cell_type": "markdown",
      "source": "- Passing the boolean Series to the first position of the `loc` method of the DataFrame selects the rows that have value equal to True:",
      "metadata": {
        "deletable": true,
        "editable": true
      }
    },
    {
      "cell_type": "code",
      "source": "df_miss.loc[mask,:]",
      "metadata": {
        "collapsed": false,
        "deletable": true,
        "editable": true
      },
      "execution_count": null,
      "outputs": []
    },
    {
      "cell_type": "markdown",
      "source": "- Similarly, if you want to locate the rows that contains only missing values, you can use `all()`",
      "metadata": {
        "deletable": true,
        "editable": true
      }
    },
    {
      "cell_type": "code",
      "source": "mask=df_miss.isnull().all(axis=1)\nmask",
      "metadata": {
        "collapsed": false,
        "deletable": true,
        "editable": true
      },
      "execution_count": null,
      "outputs": []
    },
    {
      "cell_type": "markdown",
      "source": "**Exercise 5**\n- Handling NaNs has been shown, however, not all missing values are NaNs. Consider the example below:\n\n```\nEmployee = pd.read_csv('Employee_continue.csv')\n```\n\nPrint the data frame, looking for missing values by inspection. How many missing values are there? Some of the missing values might not be NaNs.",
      "metadata": {
        "deletable": true,
        "editable": true
      }
    },
    {
      "cell_type": "code",
      "source": "Employee = pd.read_csv('Employee_continue.csv')\nEmployee",
      "metadata": {
        "collapsed": false,
        "deletable": true,
        "editable": true
      },
      "execution_count": null,
      "outputs": []
    },
    {
      "cell_type": "markdown",
      "source": "- See '?' in the data frame. For a small data frame like this the '?' may be replaced by `np.nan` manually. In dealing with a large data frame, it is more efficient to use the function `replace`. Use `replace` to swap '?' with `np.nan`.",
      "metadata": {
        "deletable": true,
        "editable": true
      }
    },
    {
      "cell_type": "code",
      "source": "#### Your code here\n",
      "metadata": {
        "collapsed": true,
        "deletable": true,
        "editable": true
      },
      "execution_count": null,
      "outputs": []
    },
    {
      "cell_type": "markdown",
      "source": "- How many missing values are there in each row? How many in each column?",
      "metadata": {
        "deletable": true,
        "editable": true
      }
    },
    {
      "cell_type": "code",
      "source": "#### Your code here\n",
      "metadata": {
        "collapsed": true,
        "deletable": true,
        "editable": true
      },
      "execution_count": null,
      "outputs": []
    },
    {
      "cell_type": "markdown",
      "source": "- Print the rows with missing values.",
      "metadata": {
        "deletable": true,
        "editable": true
      }
    },
    {
      "cell_type": "code",
      "source": "#### Your code here\n",
      "metadata": {
        "collapsed": true,
        "deletable": true,
        "editable": true
      },
      "execution_count": null,
      "outputs": []
    },
    {
      "cell_type": "markdown",
      "source": "- Print the columns with missing values.",
      "metadata": {
        "deletable": true,
        "editable": true
      }
    },
    {
      "cell_type": "code",
      "source": "#### Your code here\n",
      "metadata": {
        "collapsed": true,
        "deletable": true,
        "editable": true
      },
      "execution_count": null,
      "outputs": []
    },
    {
      "cell_type": "markdown",
      "source": "Once all the missing values are represented by `NaN`s, Pandas provides various methods for handling them:\n\n<p><a name=\"dropna\"></a></p>\n## dropna\n- One option is to discard the rows with missing values. Below the arguments `axis=0` and `how='any'` indicate dropping *rows* with a NaN in *any* position.",
      "metadata": {
        "deletable": true,
        "editable": true
      }
    },
    {
      "cell_type": "code",
      "source": "df_miss",
      "metadata": {
        "collapsed": false,
        "deletable": true,
        "editable": true
      },
      "execution_count": null,
      "outputs": []
    },
    {
      "cell_type": "code",
      "source": "df_miss.dropna(axis=0, how='any')",
      "metadata": {
        "collapsed": false,
        "deletable": true,
        "editable": true
      },
      "execution_count": null,
      "outputs": []
    },
    {
      "cell_type": "markdown",
      "source": "- Another option is to drop rows full of NaNs. This can be done with `how='all'`.",
      "metadata": {
        "deletable": true,
        "editable": true
      }
    },
    {
      "cell_type": "code",
      "source": "df_miss.dropna(axis=0, how='all')",
      "metadata": {
        "collapsed": false,
        "deletable": true,
        "editable": true
      },
      "execution_count": null,
      "outputs": []
    },
    {
      "cell_type": "markdown",
      "source": "- Applying `dropna()` to the above data frame may be done once more. Drop a column with the argument `axis=1`.",
      "metadata": {
        "deletable": true,
        "editable": true
      }
    },
    {
      "cell_type": "code",
      "source": "df_miss.dropna(axis=0, how='all').dropna(axis=1, how='any')",
      "metadata": {
        "collapsed": false,
        "deletable": true,
        "editable": true
      },
      "execution_count": null,
      "outputs": []
    },
    {
      "cell_type": "markdown",
      "source": "<p><a name=\"fillna\"></a></p>\n## fillna\n\n- An alternative to discarding information is to **impute** the data. \n- This can be done with the `fillna()` function with the value to be imputed as the argument.",
      "metadata": {
        "deletable": true,
        "editable": true
      }
    },
    {
      "cell_type": "code",
      "source": "df_miss.fillna(0)",
      "metadata": {
        "collapsed": false,
        "deletable": true,
        "editable": true
      },
      "execution_count": null,
      "outputs": []
    },
    {
      "cell_type": "markdown",
      "source": "- Another common way to impute is by the mean of the column.",
      "metadata": {
        "deletable": true,
        "editable": true
      }
    },
    {
      "cell_type": "code",
      "source": "df_miss['one'].fillna(df_miss['one'].mean())",
      "metadata": {
        "collapsed": false,
        "deletable": true,
        "editable": true
      },
      "execution_count": null,
      "outputs": []
    },
    {
      "cell_type": "markdown",
      "source": "<p><a name=\"interpolate\"></a></p>\n## Interpolate\n\n- Interpolation is the insertion of new data between preeexisting fixed points. Linear interpolation uses a linear function to create new data point.  \n- In pandas this is accomplished using `interpolate()` with the `method` parameter set to linear, `method='linear'`.  \n- This will fill in missing data points with a linear interpolation between the data points bordering the missing values.",
      "metadata": {
        "deletable": true,
        "editable": true
      }
    },
    {
      "cell_type": "code",
      "source": "df_miss",
      "metadata": {
        "collapsed": false,
        "deletable": true,
        "editable": true
      },
      "execution_count": null,
      "outputs": []
    },
    {
      "cell_type": "code",
      "source": "df_miss.interpolate(method='linear')",
      "metadata": {
        "collapsed": false,
        "deletable": true,
        "editable": true
      },
      "execution_count": null,
      "outputs": []
    },
    {
      "cell_type": "markdown",
      "source": "- Since `df.loc['b','one']` is a NaN between `df.loc['a','one']` and `df.loc['c','one']`, the value inserted is the mean of them.\n- Note how this technique treats NaN values at the bottom of a column.",
      "metadata": {
        "deletable": true,
        "editable": true
      }
    },
    {
      "cell_type": "code",
      "source": "(df_miss.loc['a', 'one'] + df_miss.loc['c', 'one'])/2",
      "metadata": {
        "collapsed": false,
        "deletable": true,
        "editable": true
      },
      "execution_count": null,
      "outputs": []
    },
    {
      "cell_type": "markdown",
      "source": "<p><a name=\"grouping\"></a></p>\n\n# Grouping and Aggregation\n\nGrouping and  aggregation are critical components of data analysis which involve:\n\n- **Splitting** data into groups based on some features.\n- **Applying** a function to each group independently.\n- **Combining** the result into data structure.",
      "metadata": {
        "deletable": true,
        "editable": true
      }
    },
    {
      "cell_type": "markdown",
      "source": "### Grouping\n\nGrouping splits a data frame into categorical groups, according to a given variable, or set of variables.   Consider the following data frame.",
      "metadata": {
        "deletable": true,
        "editable": true
      }
    },
    {
      "cell_type": "code",
      "source": "Country = pd.read_csv('countries.csv', delimiter=';')\nCountry.head()",
      "metadata": {
        "collapsed": false,
        "deletable": true,
        "editable": true
      },
      "execution_count": null,
      "outputs": []
    },
    {
      "cell_type": "code",
      "source": "#choose the desires columns\nCountry=Country[['Country','Continent','Population','Area','Coastline',\n                'Currency','Birthrate','Deathrate','Life expectancy']]\n#change the column names to lowercase\nCountry.columns = Country.columns.str.lower()\n#drop columns with missing values (Antarctica)\nCountry=Country.dropna(axis=0, how='any')\n#limit to countries with populations over 20 million\nCountry=Country[Country['population']>20e6]\n#add a boolean valued column that is true for countries with coastlines\nCountry['coastal']=Country['coastline']!=0\nCountry",
      "metadata": {
        "collapsed": false,
        "deletable": true,
        "editable": true,
        "scrolled": false
      },
      "execution_count": null,
      "outputs": []
    },
    {
      "cell_type": "markdown",
      "source": "- This will calculate the mean population.",
      "metadata": {
        "deletable": true,
        "editable": true
      }
    },
    {
      "cell_type": "code",
      "source": "Country['population'].mean()",
      "metadata": {
        "collapsed": false,
        "deletable": true,
        "editable": true
      },
      "execution_count": null,
      "outputs": []
    },
    {
      "cell_type": "markdown",
      "source": "- This will calculate the sum of all populations in Asia.",
      "metadata": {
        "deletable": true,
        "editable": true
      }
    },
    {
      "cell_type": "code",
      "source": "Country[Country['continent']=='Asia']['population'].sum()",
      "metadata": {
        "collapsed": false,
        "deletable": true,
        "editable": true
      },
      "execution_count": null,
      "outputs": []
    },
    {
      "cell_type": "markdown",
      "source": "- This will return the number of land-locked countries in the data frame.",
      "metadata": {
        "deletable": true,
        "editable": true
      }
    },
    {
      "cell_type": "code",
      "source": "Country[Country['coastal']==False].country.count()",
      "metadata": {
        "collapsed": false,
        "deletable": true,
        "editable": true
      },
      "execution_count": null,
      "outputs": []
    },
    {
      "cell_type": "markdown",
      "source": "- To group the countries by continent, do the following:",
      "metadata": {
        "deletable": true,
        "editable": true
      }
    },
    {
      "cell_type": "code",
      "source": "group = Country.groupby('continent')",
      "metadata": {
        "collapsed": true,
        "deletable": true,
        "editable": true
      },
      "execution_count": null,
      "outputs": []
    },
    {
      "cell_type": "markdown",
      "source": "- `group` is assigned the value returned by the `groupby` function, whose type is:",
      "metadata": {
        "deletable": true,
        "editable": true
      }
    },
    {
      "cell_type": "code",
      "source": "print(type(group))",
      "metadata": {
        "collapsed": false,
        "deletable": true,
        "editable": true
      },
      "execution_count": null,
      "outputs": []
    },
    {
      "cell_type": "markdown",
      "source": "- The `DataFrameGroupBy` object is an `iterable`. Iterate over the object and print the contents, as follows:",
      "metadata": {
        "deletable": true,
        "editable": true
      }
    },
    {
      "cell_type": "code",
      "source": "for item in group:\n    print(item)",
      "metadata": {
        "collapsed": false,
        "deletable": true,
        "editable": true
      },
      "execution_count": null,
      "outputs": []
    },
    {
      "cell_type": "markdown",
      "source": "- Each `item` we print is a two element `tuple`. The first element is the grouping.  \n- The second element is a data frame for that grouping. There is an alternative way of iterating through the groupby object, as follows:",
      "metadata": {
        "deletable": true,
        "editable": true
      }
    },
    {
      "cell_type": "code",
      "source": "for key, values in group:\n    print(key) #this indicates the grouping\n    print('-'*70)\n    print(values) #this is a dataframe for that \n    print('\\n')",
      "metadata": {
        "collapsed": false,
        "deletable": true,
        "editable": true
      },
      "execution_count": null,
      "outputs": []
    },
    {
      "cell_type": "markdown",
      "source": "- This is a great way to print and inspect a `DataFrameGroupBy` object. Above was an example of **splitting**.\n- The size function includes the number of elements in each grouping.",
      "metadata": {
        "deletable": true,
        "editable": true
      }
    },
    {
      "cell_type": "code",
      "source": "group.size()",
      "metadata": {
        "collapsed": false,
        "deletable": true,
        "editable": true
      },
      "execution_count": null,
      "outputs": []
    },
    {
      "cell_type": "markdown",
      "source": "- The following will return a data frame with the mean values for every coulumn in every grouping.",
      "metadata": {
        "deletable": true,
        "editable": true
      }
    },
    {
      "cell_type": "code",
      "source": "group.mean()",
      "metadata": {
        "collapsed": false,
        "deletable": true,
        "editable": true
      },
      "execution_count": null,
      "outputs": []
    },
    {
      "cell_type": "markdown",
      "source": "- If you just want the mean of one specific column.",
      "metadata": {
        "deletable": true,
        "editable": true
      }
    },
    {
      "cell_type": "code",
      "source": "group.birthrate.mean()\n# group[['birthrate']].mean() # This returns a data frame",
      "metadata": {
        "collapsed": false,
        "deletable": true,
        "editable": true
      },
      "execution_count": null,
      "outputs": []
    },
    {
      "cell_type": "markdown",
      "source": "### Aggregration",
      "metadata": {
        "deletable": true,
        "editable": true
      }
    },
    {
      "cell_type": "markdown",
      "source": "- The data frame can be grouped by multiple keys:",
      "metadata": {
        "deletable": true,
        "editable": true
      }
    },
    {
      "cell_type": "code",
      "source": "group2 = Country.groupby(['continent', 'currency'])",
      "metadata": {
        "collapsed": true,
        "deletable": true,
        "editable": true
      },
      "execution_count": null,
      "outputs": []
    },
    {
      "cell_type": "code",
      "source": "for key, values in group2:\n    print(key)\n    print('-'*70)\n    print(values)\n    print('\\n')",
      "metadata": {
        "collapsed": false,
        "deletable": true,
        "editable": true
      },
      "execution_count": null,
      "outputs": []
    },
    {
      "cell_type": "code",
      "source": "group2.mean()",
      "metadata": {
        "collapsed": false,
        "deletable": true,
        "editable": true
      },
      "execution_count": null,
      "outputs": []
    },
    {
      "cell_type": "markdown",
      "source": "- Apply multiple functions to each group with the method `agg()`:",
      "metadata": {
        "deletable": true,
        "editable": true
      }
    },
    {
      "cell_type": "code",
      "source": "group.agg(['count', 'sum', 'min', 'max', 'mean', 'std'])",
      "metadata": {
        "collapsed": false,
        "deletable": true,
        "editable": true
      },
      "execution_count": null,
      "outputs": []
    },
    {
      "cell_type": "markdown",
      "source": "- To look at a single column of the aggregate analysis, use the column indexing:",
      "metadata": {
        "deletable": true,
        "editable": true
      }
    },
    {
      "cell_type": "code",
      "source": "group.agg(['count', 'sum', 'min', 'max', 'mean', 'std'])['birthrate']",
      "metadata": {
        "collapsed": false,
        "deletable": true,
        "editable": true
      },
      "execution_count": null,
      "outputs": []
    },
    {
      "cell_type": "markdown",
      "source": "- The column std is missing a value above because Australia only has one row in the data frame.\n- Also note that `sum` is an inappropriate function to apply to birthrate where it would be applicable to population.",
      "metadata": {
        "deletable": true,
        "editable": true
      }
    },
    {
      "cell_type": "markdown",
      "source": "- Different aggregating functions can be applied to different columns. This can be done with a dictionary.",
      "metadata": {
        "deletable": true,
        "editable": true
      }
    },
    {
      "cell_type": "code",
      "source": "colFun = {'country':['count'],\n          'population': ['sum','min', 'max','mean','std'], \n          'area': ['sum','min', 'max','mean'],\n          'coastline':['sum','min', 'max'],\n          'birthrate':['min', 'max','mean','std'],\n          'deathrate':['min', 'max','mean','std'],\n          'life expectancy':['min', 'max','mean','std']}\nanalysis=group.agg(colFun)\nanalysis",
      "metadata": {
        "collapsed": false,
        "deletable": true,
        "editable": true
      },
      "execution_count": null,
      "outputs": []
    },
    {
      "cell_type": "markdown",
      "source": "- Custom aggregation functions may also be applied. In the previous examples, aggregation functions are applied to each **column** in a data frame. \n- Keep this in mind when defining a custom function. For example, build a function that computes the mean after removing maxima (truncated mean).",
      "metadata": {
        "deletable": true,
        "editable": true
      }
    },
    {
      "cell_type": "code",
      "source": "def trunc_mean(x):    # x has to be a 'vector' (1d array or pandas Series)\n    sec=x[x!=x.max()]\n    if sec.shape[0]!=0:\n        return np.mean(sec)",
      "metadata": {
        "collapsed": true,
        "deletable": true,
        "editable": true
      },
      "execution_count": null,
      "outputs": []
    },
    {
      "cell_type": "code",
      "source": "Country[Country['country']!='Australia' ].groupby('continent').agg(trunc_mean)",
      "metadata": {
        "collapsed": false,
        "deletable": true,
        "editable": true,
        "scrolled": true
      },
      "execution_count": null,
      "outputs": []
    },
    {
      "cell_type": "markdown",
      "source": "**Exercise 6**\n\nUsing the data frame Country:\n\n- Find the minimum and maximum of the 'life expectancy' for costal and landlocked countries.\n- How many coastal and landlocked countries are in each continent? Determine the mean deathrate for coastal and landlocked countries in each continent.\n- Create a new column measuring population density.  Determine the mean population density of all the countries.  Create a new column 'dense' that is True for countries with higher than average density and False for lower than average density.\n- For each category of 'dense' compute the mean birthrate and the difference between the maximal birthrate and the minimal birthrate.",
      "metadata": {
        "deletable": true,
        "editable": true
      }
    },
    {
      "cell_type": "code",
      "source": "#### Your code here\n",
      "metadata": {
        "collapsed": true,
        "deletable": true,
        "editable": true
      },
      "execution_count": null,
      "outputs": []
    },
    {
      "cell_type": "markdown",
      "source": "<p><a name=\"time\"></a></p>\n# Time Series",
      "metadata": {
        "deletable": true,
        "editable": true
      }
    },
    {
      "cell_type": "markdown",
      "source": "We will use the NYSE data from [Kaggle](https://www.kaggle.com/dgawlik/nyse) to illustrate how to use the time series data structure in pandas.\n\nThere are two time series related csv files:\n- prices.csv: raw, as-is daily prices. Most of data spans from 2010 to the end 2016, for companies new on stock market date range is shorter. There have been approx. 140 stock splits in that time, this set doesn't account for that.\n- prices-split-adjusted.csv: same as prices, but there have been added adjustments for splits.",
      "metadata": {
        "deletable": true,
        "editable": true
      }
    },
    {
      "cell_type": "code",
      "source": "url_adjusted = 'https://graderdata.s3.amazonaws.com/prices-split-adjusted.csv'\n\n### Your code here\nsplit_adjusted_price = pd.read_csv(url_adjusted)",
      "metadata": {
        "collapsed": true,
        "deletable": true,
        "editable": true
      },
      "execution_count": null,
      "outputs": []
    },
    {
      "cell_type": "code",
      "source": "split_adjusted_price.head()",
      "metadata": {
        "collapsed": false,
        "deletable": true,
        "editable": true
      },
      "execution_count": null,
      "outputs": []
    },
    {
      "cell_type": "markdown",
      "source": "- The date column contains timestamps so we can use it as the index of our dataframe.",
      "metadata": {
        "deletable": true,
        "editable": true
      }
    },
    {
      "cell_type": "code",
      "source": "split_adjusted_price['date'] = pd.to_datetime(split_adjusted_price['date'])\nsplit_adjusted_price = split_adjusted_price.set_index('date')",
      "metadata": {
        "collapsed": true,
        "deletable": true,
        "editable": true
      },
      "execution_count": null,
      "outputs": []
    },
    {
      "cell_type": "code",
      "source": "split_adjusted_price.head()",
      "metadata": {
        "collapsed": false,
        "deletable": true,
        "editable": true
      },
      "execution_count": null,
      "outputs": []
    },
    {
      "cell_type": "markdown",
      "source": "- Once it becomes datetime data type, we can extract the month, date, year or even the weekday easily.",
      "metadata": {
        "deletable": true,
        "editable": true
      }
    },
    {
      "cell_type": "code",
      "source": "split_adjusted_price.index.day",
      "metadata": {
        "collapsed": false,
        "deletable": true,
        "editable": true
      },
      "execution_count": null,
      "outputs": []
    },
    {
      "cell_type": "code",
      "source": "split_adjusted_price.index.month",
      "metadata": {
        "collapsed": false,
        "deletable": true,
        "editable": true
      },
      "execution_count": null,
      "outputs": []
    },
    {
      "cell_type": "code",
      "source": "split_adjusted_price.index.dayofweek",
      "metadata": {
        "collapsed": false,
        "deletable": true,
        "editable": true
      },
      "execution_count": null,
      "outputs": []
    },
    {
      "cell_type": "markdown",
      "source": "- You can also extract the observations within any time range.",
      "metadata": {
        "deletable": true,
        "editable": true
      }
    },
    {
      "cell_type": "code",
      "source": "# View all observations that occured in May 2016\nsplit_adjusted_price.loc['5/2016']",
      "metadata": {
        "collapsed": false,
        "deletable": true,
        "editable": true
      },
      "execution_count": null,
      "outputs": []
    },
    {
      "cell_type": "code",
      "source": "# Observations between May 3rd and May 4th\nsplit_adjusted_price['5/3/2016':'5/4/2016']",
      "metadata": {
        "collapsed": false,
        "deletable": true,
        "editable": true
      },
      "execution_count": null,
      "outputs": []
    },
    {
      "cell_type": "markdown",
      "source": "- Once you have the dataframe has a datetime index, you can easily plot the time series graph across different columns.\n- i.e the closing price of Apple Inc",
      "metadata": {
        "deletable": true,
        "editable": true
      }
    },
    {
      "cell_type": "code",
      "source": "%matplotlib inline\nsplit_adjusted_price[split_adjusted_price['symbol'] == 'AAPL'].close.plot()",
      "metadata": {
        "collapsed": false,
        "deletable": true,
        "editable": true
      },
      "execution_count": null,
      "outputs": []
    },
    {
      "cell_type": "markdown",
      "source": "<p><a name=\"sol\"></a></p>\n# Soluitons",
      "metadata": {
        "deletable": true,
        "editable": true
      }
    },
    {
      "cell_type": "markdown",
      "source": "**Exercise 1**",
      "metadata": {
        "deletable": true,
        "editable": true
      }
    },
    {
      "cell_type": "code",
      "source": "NYC=pd.DataFrame([['Bronx',1.39,42],\n                ['Manhattan',1.59,23],\n                ['Brooklyn',2.47,71],\n                ['Staten Island',0.44,59],\n                ['Queens',2.23,109]],columns=['boro','pop','area'])\n\nNYC['density']=NYC['pop']/NYC['area']\nNYC=NYC.set_index('boro')\nNYC",
      "metadata": {
        "collapsed": false,
        "deletable": true,
        "editable": true
      },
      "execution_count": null,
      "outputs": []
    },
    {
      "cell_type": "markdown",
      "source": "**Exercise 3**",
      "metadata": {
        "deletable": true,
        "editable": true
      }
    },
    {
      "cell_type": "code",
      "source": "NYC3=pd.concat([NYC, new_features], axis = 1)\nNYC3",
      "metadata": {
        "collapsed": true,
        "deletable": true,
        "editable": true
      },
      "execution_count": null,
      "outputs": []
    },
    {
      "cell_type": "markdown",
      "source": "**Exercise 4**",
      "metadata": {
        "deletable": true,
        "editable": true
      }
    },
    {
      "cell_type": "code",
      "source": "NYC4=pd.merge(NYC3.reset_index(),Elevations,left_on='high_point',right_on='location').set_index('index')\nNYC4.columns=NYC4.columns.str.replace('elevation','peak_elevation')\nNYC4=NYC4.sort_values('peak_elevation',ascending=False)",
      "metadata": {
        "collapsed": true,
        "deletable": true,
        "editable": true
      },
      "execution_count": null,
      "outputs": []
    },
    {
      "cell_type": "markdown",
      "source": "**Exercise 5**",
      "metadata": {
        "deletable": true,
        "editable": true
      }
    },
    {
      "cell_type": "code",
      "source": "Employee=Employee.replace('?',np.nan)\nEmployee\nnp.sum(Employee.isnull(), axis=1)\nnp.sum(Employee.isnull(), axis=0)\nEmployee.loc[Employee.isnull().any(axis=1),:]\nEmployee.loc[:,Employee.isnull().any(axis=0) ]",
      "metadata": {
        "collapsed": true,
        "deletable": true,
        "editable": true
      },
      "execution_count": null,
      "outputs": []
    },
    {
      "cell_type": "markdown",
      "source": "**Exercise 6**",
      "metadata": {
        "deletable": true,
        "editable": true
      }
    },
    {
      "cell_type": "code",
      "source": "Country.groupby('coastal').agg({'life expectancy':['min','max']})\nCountry.groupby(['continent','coastal']).agg({'deathrate':['count','mean']})\nCountry['density']=Country['population']/Country['area']\nCountry['dense']=Country['density']>Country['density'].mean()\ndef diff_(x):\n    return max(x)-min(x)\nCountry.groupby('dense').agg({'birthrate':['mean',diff_]})",
      "metadata": {
        "collapsed": true,
        "deletable": true,
        "editable": true
      },
      "execution_count": null,
      "outputs": []
    },
    {
      "cell_type": "code",
      "source": "",
      "metadata": {
        "collapsed": true,
        "deletable": true,
        "editable": true
      },
      "execution_count": null,
      "outputs": []
    }
  ]
}