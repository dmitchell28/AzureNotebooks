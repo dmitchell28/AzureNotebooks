{
  "metadata": {
    "anaconda-cloud": {},
    "kernelspec": {
      "display_name": "Python 3",
      "language": "python",
      "name": "python3"
    },
    "language_info": {
      "mimetype": "text/x-python",
      "nbconvert_exporter": "python",
      "name": "python",
      "pygments_lexer": "ipython3",
      "version": "3.5.4",
      "file_extension": ".py",
      "codemirror_mode": {
        "version": 3,
        "name": "ipython"
      }
    }
  },
  "nbformat_minor": 2,
  "nbformat": 4,
  "cells": [
    {
      "cell_type": "markdown",
      "source": "<p><a name=\"sections\"></a></p>\n\n\n# Sections\n\n- <a href=\"#simple\">Simple Values and Expressions</a>\n- <a href=\"#lambda\">Lambda Functions and Named Functions</a>\n- <a href=\"#list\">List</a>\n  - <a href=\"#funcOnList\">Defining Functions on Lists</a>\n  - <a href=\"#nList\">Nested Lists</a>\n- <a href=\"#funcOper\">Functional Operators</a>\n  - <a href=\"#map\">map</a>\n  - <a href=\"#bool\">Boolean Functions</a>\n  - <a href=\"#filter\">filter</a>\n- <a href=\"#multiList\">Multiple-list Operations\n- <a href=\"#string\">String operations</a>\n - <a href=\"#strBasic\">String Basics</a>\n - <a href=\"#OMC\">Object Method and Class Method Calls</a>\n - <a href=\"#buildin\">Built-in Strings Operations</a>\n - <a href=\"#MinMap\">Object Method Calls in map</a>\n - <a href=\"#case\">Case conversion</a>\n- <a href=\"#sol\">Solutions</a>",
      "metadata": {}
    },
    {
      "cell_type": "markdown",
      "source": "# Simple Values and Expressions\n\n** Expressions and Values**\n\nWe demonstrate the simplest expression syntax: Operators +, -, * and / work just like in most other languages; parentheses can be used for grouping.",
      "metadata": {}
    },
    {
      "cell_type": "code",
      "source": "# Comment in Python starts with the hash character, # , and extend to the end of the physical line\n\n1 + 2 * 3     # * has precedence over +",
      "metadata": {},
      "execution_count": null,
      "outputs": []
    },
    {
      "cell_type": "code",
      "source": "(1 + 2) * 3",
      "metadata": {},
      "execution_count": null,
      "outputs": []
    },
    {
      "cell_type": "markdown",
      "source": "- iPython notebook shows only the last statement in each cell. To inspect all of them, we may use the `print` **function**:",
      "metadata": {}
    },
    {
      "cell_type": "code",
      "source": "print(1 + 2 * 3)\nprint((1 + 2) * 3)",
      "metadata": {},
      "execution_count": null,
      "outputs": []
    },
    {
      "cell_type": "markdown",
      "source": "- If you want to check the detail usage of the function, move your cursor into the function and press **Shift+Tab**\n- This is a cool feature of Jupyter notebook and you can find more of them [here](https://www.dataquest.io/blog/jupyter-notebook-tips-tricks-shortcuts/)",
      "metadata": {}
    },
    {
      "cell_type": "markdown",
      "source": "- Now try more examples and check the output:",
      "metadata": {}
    },
    {
      "cell_type": "code",
      "source": "print(12 / 3)     # int / int -> float\nprint(17 // 3)    # floor division\nprint(17.0 // 3)  # return float if one of the values is float \nprint(17 % 3)     # remainder\nprint(2 ** 7)     # 2 to the power of 7",
      "metadata": {},
      "execution_count": null,
      "outputs": []
    },
    {
      "cell_type": "markdown",
      "source": "**Syntactic note**:  \n- Python does not have any special terminating character, so you must enter everything on one line.\n- Acoording to Python [PEP8](https://www.python.org/dev/peps/pep-0008/), it is recommended to have maximum line length 79 characters.\n- If the line is too long, you can split it up either by enclosing the expression in parens or by adding a \\ at the end.\n- **Note**: `\\` must be the very last thing on the line (not even followed by spaces)",
      "metadata": {}
    },
    {
      "cell_type": "code",
      "source": "8 * (7 + 6 * 5) + 4 / 3 ** 2 - 1",
      "metadata": {},
      "execution_count": null,
      "outputs": []
    },
    {
      "cell_type": "code",
      "source": "(8 * (7 + 6 * 5)    # use parentheses\n          + 4 / 3 ** 2 - 1)",
      "metadata": {},
      "execution_count": null,
      "outputs": []
    },
    {
      "cell_type": "code",
      "source": "8 * (7 + 6 * 5) \\\n      + 4 / 3 ** 2 - 1     # use backslash",
      "metadata": {},
      "execution_count": null,
      "outputs": []
    },
    {
      "cell_type": "markdown",
      "source": "**Varaiables**\n\nVariables are used to give names to values.  This is to avoid having to re-type an expression, and so the computer doesn’t have to recompute it.  The equal sign \"`=`\" is used to assign a value to a variable.",
      "metadata": {}
    },
    {
      "cell_type": "code",
      "source": "tax = 12.5 / 100   # An “assignment statement”\nprice = 100.50",
      "metadata": {
        "collapsed": true
      },
      "execution_count": null,
      "outputs": []
    },
    {
      "cell_type": "markdown",
      "source": "iPython notebook print nothing for assignments, as we see from above.",
      "metadata": {}
    },
    {
      "cell_type": "code",
      "source": "price * tax",
      "metadata": {},
      "execution_count": null,
      "outputs": []
    },
    {
      "cell_type": "markdown",
      "source": "Self assignment is a common operation so there is a shorthand notation:\n\n- `a=a+b` <----> `a+=b`\n- `a=a-b` <----> `a-=b`\n- `a=a*b` <----> `a*=b`\n- `a=a/b` <----> `a/=b`",
      "metadata": {}
    },
    {
      "cell_type": "code",
      "source": "print(price)\nprice += 10 # this is same as price = price + 10\nprint(price)",
      "metadata": {},
      "execution_count": null,
      "outputs": []
    },
    {
      "cell_type": "markdown",
      "source": "**Naming convention**\n\n- Variable names in Python should start with letters, and can contain any number of letters, digits, and  _.\n\n- Python names are case sensitive.  This applies both to variable names and to function names imported from modules.\n\n- By convention, Python variables usually start with lower-case letters.  Variables should have descriptive names; for multi-word names, separate the words by underscores.\n - Good names:  first_index, random_nums\n - One-letter names are used in certain circumstances - e.g. i, j, k when used as indexes - but are otherwise frowned upon.",
      "metadata": {}
    },
    {
      "cell_type": "markdown",
      "source": "**Calling functions**\n\n- The Python interpreter has a number of functions built into it:",
      "metadata": {}
    },
    {
      "cell_type": "code",
      "source": "abs(-5.0)",
      "metadata": {},
      "execution_count": null,
      "outputs": []
    },
    {
      "cell_type": "markdown",
      "source": "- There is also a way to put definitions in a file that you can load and use. Such a file is called a **module**.\n\n- You can use the functions in a module by importing the module and using its name plus the function’s name:",
      "metadata": {}
    },
    {
      "cell_type": "code",
      "source": "import math          # import the math module\nmath.factorial(5)    # factorial of 5",
      "metadata": {},
      "execution_count": null,
      "outputs": []
    },
    {
      "cell_type": "code",
      "source": "from math import sin, cos\ntheta = math.pi/6\nprint(sin(theta), cos(theta))",
      "metadata": {},
      "execution_count": null,
      "outputs": []
    },
    {
      "cell_type": "markdown",
      "source": "- Or, use a different import syntax and use the function name alone:",
      "metadata": {}
    },
    {
      "cell_type": "code",
      "source": "from math import *  # this imports all contents of module\nfactorial(5)        # no module name",
      "metadata": {},
      "execution_count": null,
      "outputs": []
    },
    {
      "cell_type": "code",
      "source": "import math as ma  #assign an alias for module name\nma.factorial(5)",
      "metadata": {},
      "execution_count": null,
      "outputs": []
    },
    {
      "cell_type": "markdown",
      "source": "To find the function you need, you might need the **documentation**:\n\n - Built-in functions:  [https://docs.python.org/3.6/library/functions.html](https://docs.python.org/3.6/library/functions.html)\n - Math module:  [https://docs.python.org/3.6/library/math.html](https://docs.python.org/3.6/library/math.html)\n - Google is your friend!\n - And also the Tab key",
      "metadata": {}
    },
    {
      "cell_type": "markdown",
      "source": "<p><a name=\"lambda\"></a></p>\n# Lambda Functions and Named Functions\n\n**Defining Functions**\n\n- You have seen how to call functions.  Now we’ll see how to define them.\n- The following function takes a number x and returns $x^2 + x^3$.",
      "metadata": {}
    },
    {
      "cell_type": "code",
      "source": "def add_two_powers(x):\n    return x**2 + x**3",
      "metadata": {
        "collapsed": true
      },
      "execution_count": null,
      "outputs": []
    },
    {
      "cell_type": "markdown",
      "source": "- The keyword **def** introduces a function definition. It is followed by the function name and a parenthesized list of parameters. \n- The statements in the body of the function start at the next line, and must be indented.\n- Call the function in the usual way (after the function has been defined, whether in the same cell or a later cell):",
      "metadata": {}
    },
    {
      "cell_type": "code",
      "source": "add_two_powers(4)",
      "metadata": {},
      "execution_count": null,
      "outputs": []
    },
    {
      "cell_type": "markdown",
      "source": "- There is an alternative syntax for function definitions that will turn out to be handy.  It uses the **lambda** keyword. \n\n- Back to the previous problem, we could write:",
      "metadata": {}
    },
    {
      "cell_type": "code",
      "source": "Add_two_powers = lambda x: x**2 + x**3\nAdd_two_powers(4)",
      "metadata": {},
      "execution_count": null,
      "outputs": []
    },
    {
      "cell_type": "markdown",
      "source": "The two syntaxes for function definitions give the same result, but note the differences in syntax:\n\n```python\n\ndef f(x):\n   return expression\n  \nf = lambda x: expression\n\n```\n",
      "metadata": {}
    },
    {
      "cell_type": "markdown",
      "source": "- The first version begins with **def** and has its argument in parentheses.  The second version looks like an assignment statement; it uses the keyword **lambda**, and the argument is not in parentheses.\n\n- The first version uses the keyword **return**; the second version doesn’t.\n\n- To define a function with multiple arguments, just add more names to the variable list, separated by commas.",
      "metadata": {}
    },
    {
      "cell_type": "code",
      "source": "import math\n\n# def notation\ndef vector_length(x, y):\n    return math.sqrt(x**2 + y**2)\n\n# lambda notation\nVector_length = lambda x, y: math.sqrt(x**2 + y**2)",
      "metadata": {
        "collapsed": true
      },
      "execution_count": null,
      "outputs": []
    },
    {
      "cell_type": "code",
      "source": "print(vector_length(5,12))\nprint(Vector_length(5,12))",
      "metadata": {},
      "execution_count": null,
      "outputs": []
    },
    {
      "cell_type": "markdown",
      "source": "Sometimes you might just need a placeholder for your function, you can use the **pass** statement.",
      "metadata": {}
    },
    {
      "cell_type": "code",
      "source": "def my_fun(x):\n    pass",
      "metadata": {
        "collapsed": true
      },
      "execution_count": null,
      "outputs": []
    },
    {
      "cell_type": "markdown",
      "source": "**Exercise 1**\n\n- Define a function that takes the radius of a circle as input and return the area. (Remember the area of a circle = $\\pi r^2$.) Define it with both syntaxes, **def** and **lambda**, calling them area and Area, respectively.\n \n- Calculate the area of a circle with radius 10 using both functions.",
      "metadata": {}
    },
    {
      "cell_type": "code",
      "source": "#### Your code here\nimport math\ndef area(r):\n    pass",
      "metadata": {
        "collapsed": true
      },
      "execution_count": null,
      "outputs": []
    },
    {
      "cell_type": "code",
      "source": "#### Your code here\nArea = lambda r: ",
      "metadata": {},
      "execution_count": null,
      "outputs": []
    },
    {
      "cell_type": "markdown",
      "source": "**Wrap your function in Python module**\n\n- Python module ≠ Python package!\n- Any .py file could be used as a Python module.\n- People define functions they want to use later and call the function by importing the module.\n- Create a file called `my_module.py` in the same folder of your iPython notebook.\n- Copy the following code to your `my_module.py`.\n\n    ```python\n    def my_fun(x):\n        return x*2\n    ```",
      "metadata": {}
    },
    {
      "cell_type": "code",
      "source": "from my_module import my_fun",
      "metadata": {},
      "execution_count": null,
      "outputs": []
    },
    {
      "cell_type": "code",
      "source": "my_fun(2)",
      "metadata": {
        "collapsed": true
      },
      "execution_count": null,
      "outputs": []
    },
    {
      "cell_type": "markdown",
      "source": "What if we update our function? Change the function in your module.py and run the function again. Does the output change?\n\n```python\ndef my_fun(x):\n    return x*3\n```",
      "metadata": {}
    },
    {
      "cell_type": "code",
      "source": "my_fun(2)",
      "metadata": {
        "collapsed": true
      },
      "execution_count": null,
      "outputs": []
    },
    {
      "cell_type": "markdown",
      "source": "- We can use the so-called [magic commands](https://ipython.org/ipython-doc/3/interactive/magics.html) in jupyter notebook to automatically reload the functions for us.\nPlease check out the details [here](https://ipython.org/ipython-doc/3/config/extensions/autoreload.html)",
      "metadata": {}
    },
    {
      "cell_type": "code",
      "source": "%load_ext autoreload\n%autoreload 2",
      "metadata": {
        "collapsed": true
      },
      "execution_count": null,
      "outputs": []
    },
    {
      "cell_type": "markdown",
      "source": "- Go back to `my_func()` and change it again.",
      "metadata": {}
    },
    {
      "cell_type": "code",
      "source": "my_fun(2)",
      "metadata": {
        "collapsed": true
      },
      "execution_count": null,
      "outputs": []
    },
    {
      "cell_type": "markdown",
      "source": "<p><a name=\"list\"></a></p>\n# List\n\n- The power of Python comes from having values other than numbers. The two other types of values we’ll use most often are lists and strings.\n- Lists are ordered collections of values. Examples:  `[1, 2, 3, 4],  [7.5, 9.0, 2]`\n- Strings are sequences of characters. Examples:  `'This class is about Python.'`  (Note that the space is considered a character.)\n- Lists can contain any types of values, including numbers, strings or even another list.",
      "metadata": {}
    },
    {
      "cell_type": "markdown",
      "source": "**List operations and functions**\n\n- You can manipulate lists in Python, meaning you can create new lists or get values out of lists.\n- We’ll spend some time going over the major list operations provided by Python.\n- As we’ve seen, you create a list by writing values in square brackets, separated by commas.\n  - Note that you can also have a list with no elements, written `[]`.  This list is astonishingly useful - kind of like the number zero.\n- Given two lists, use `+` to concatenate them:",
      "metadata": {}
    },
    {
      "cell_type": "code",
      "source": "squares = [1,4,9,16,25]\nalphabet = ['a','b','c','d']\nsquares + alphabet",
      "metadata": {},
      "execution_count": null,
      "outputs": []
    },
    {
      "cell_type": "markdown",
      "source": "Find the length of a list using the `len()` function:",
      "metadata": {}
    },
    {
      "cell_type": "code",
      "source": "print(len(squares))\nprint(len(alphabet))\nprint(len(squares + alphabet))",
      "metadata": {},
      "execution_count": null,
      "outputs": []
    },
    {
      "cell_type": "markdown",
      "source": "The `range` function gives an object representing a list of integers.  To get the list itself cast the range object to a list as follows:",
      "metadata": {}
    },
    {
      "cell_type": "code",
      "source": "print(range(10))\nprint(list(range(10)))\nprint(list(range(10, 15)))\nprint(list(range(15, 10, -1)))",
      "metadata": {},
      "execution_count": null,
      "outputs": []
    },
    {
      "cell_type": "markdown",
      "source": "To create a list just one longer than an existing list - i.e. add an element to the end of a list - use concatenation:",
      "metadata": {}
    },
    {
      "cell_type": "code",
      "source": "squares + [36]",
      "metadata": {},
      "execution_count": null,
      "outputs": []
    },
    {
      "cell_type": "markdown",
      "source": "**Note**:  This operation does not change squares.  That is, it does not “add 36 to squares,” but rather creates a new list that has the same elements as squares, plus one more.",
      "metadata": {}
    },
    {
      "cell_type": "code",
      "source": "squares",
      "metadata": {},
      "execution_count": null,
      "outputs": []
    },
    {
      "cell_type": "markdown",
      "source": "There are several operations that apply to lists of numbers and perform operations on the entire list:\n- **`sum()`**:  Take the sum of the numbers in a list\n- **`max()`**, **`min()`**:  Take the maximum or minimum of the numbers in a list.  (This can also apply to strings, using lexicographic order.)\n",
      "metadata": {}
    },
    {
      "cell_type": "code",
      "source": "print(sum(squares))\nprint(max(alphabet))",
      "metadata": {},
      "execution_count": null,
      "outputs": []
    },
    {
      "cell_type": "markdown",
      "source": " - **`sorted()`**:  Sorts a list",
      "metadata": {}
    },
    {
      "cell_type": "code",
      "source": "sorted([4, 3, 6, 2, 5])",
      "metadata": {},
      "execution_count": null,
      "outputs": []
    },
    {
      "cell_type": "code",
      "source": "words=['Abc','abc','aaaaaa','zoom']\nsorted(words)",
      "metadata": {},
      "execution_count": null,
      "outputs": []
    },
    {
      "cell_type": "markdown",
      "source": "You might be wondering why is 'Abc' in front of 'aaaa'? The reason is the ASCII number of 'A' is lower than 'a'. You can check the details [here](http://www.asciitable.com/).",
      "metadata": {}
    },
    {
      "cell_type": "code",
      "source": "sorted(words, reverse=True)",
      "metadata": {},
      "execution_count": null,
      "outputs": []
    },
    {
      "cell_type": "code",
      "source": "sorted(words, key=len)",
      "metadata": {},
      "execution_count": null,
      "outputs": []
    },
    {
      "cell_type": "code",
      "source": "words",
      "metadata": {},
      "execution_count": null,
      "outputs": []
    },
    {
      "cell_type": "markdown",
      "source": "**Subscripting**\n\n- Get a single element of a list by subscripting with a number. We number the elements from zero (which is pretty common for computer languages, but takes some getting used to). \n- We can also subscript from the end by using negative numbers (-1 being the last element).",
      "metadata": {}
    },
    {
      "cell_type": "code",
      "source": "print(squares[3])\nprint(squares[-1])\nprint(alphabet[6])   # Be careful not to exceed the range when accessing an index",
      "metadata": {},
      "execution_count": null,
      "outputs": []
    },
    {
      "cell_type": "markdown",
      "source": "- `s[start_position:end_position]` returns the substring that starts at index start_position, and ends at index end_position-1. \n- We say the index runs from start_position to end_position **EXCLUSIVE**.",
      "metadata": {}
    },
    {
      "cell_type": "code",
      "source": "print(squares)\nprint(squares[1:3])\nprint(alphabet[2:])\nprint(squares[:3])",
      "metadata": {},
      "execution_count": null,
      "outputs": []
    },
    {
      "cell_type": "markdown",
      "source": "- When a second colon is included the sytax goes as follows:\n\n - `s[start_position:end_position:delta]`\n\n- The index will run from start_position to end_position **EXCLUSIVE** by increments delta.  To count in the negative direction the delta is negative.  If an argument is not included but the colon is included, the missing argument is default to the edge.",
      "metadata": {}
    },
    {
      "cell_type": "code",
      "source": "print(alphabet[1:])\nprint(squares[::-1])\nprint((squares+alphabet)[-1::-1])\nprint(squares[1:50]) # Note it is ok to go out of range when slicing a list",
      "metadata": {},
      "execution_count": null,
      "outputs": []
    },
    {
      "cell_type": "markdown",
      "source": "To return the index of a value, you can call `list.index()` and pass the value you want to search as the input argument.",
      "metadata": {}
    },
    {
      "cell_type": "code",
      "source": "squares.index(4)",
      "metadata": {},
      "execution_count": null,
      "outputs": []
    },
    {
      "cell_type": "markdown",
      "source": "## Iterators\n\nAnother way to access elements of a list, or the members of any iterable is to use `iter` and `next`.\n\n* Using the function `iter` on an iterable, such as a list, returns an iterator object.\n\n* Using the function `next` on an iterator will return elements succesively.  When the end is reached an error will be thrown.",
      "metadata": {}
    },
    {
      "cell_type": "code",
      "source": "x = [1,2,5]\nx_iter = iter(x)\nx_iter",
      "metadata": {},
      "execution_count": null,
      "outputs": []
    },
    {
      "cell_type": "markdown",
      "source": "Run the following cell until an error is returned.",
      "metadata": {}
    },
    {
      "cell_type": "code",
      "source": "next(x_iter)",
      "metadata": {},
      "execution_count": null,
      "outputs": []
    },
    {
      "cell_type": "markdown",
      "source": "Using the `list` function will return the remaining elements of the iterable as list.",
      "metadata": {}
    },
    {
      "cell_type": "code",
      "source": "x = [1,2,5]\nx_iter = iter(x)\nprint(next(x_iter))\nlist(x_iter)",
      "metadata": {},
      "execution_count": null,
      "outputs": []
    },
    {
      "cell_type": "markdown",
      "source": "<p><a name=\"funcOnList\"></a></p>\n## Defining Functions on Lists\n\n- Functions are defined on lists in exactly the same way as on numbers. (We continue defining every function in both syntaxes, just for practice.)\n- A function that returns the first element of a list:",
      "metadata": {}
    },
    {
      "cell_type": "code",
      "source": "def firstelt(L):\n    return L[0]\n\nFirstelt = lambda L: L[0]\n\nprint(firstelt(squares))\nprint(Firstelt(squares))",
      "metadata": {},
      "execution_count": null,
      "outputs": []
    },
    {
      "cell_type": "markdown",
      "source": "- A function that takes a list `L` and a value `v`, and returns a list that is the same as `L` except that its first element is `v`.",
      "metadata": {}
    },
    {
      "cell_type": "code",
      "source": "def replacefirst(L, v):\n    return [v] + L[1:]\n\nReplacefirst = lambda L, v:  [v] + L[1:]",
      "metadata": {
        "collapsed": true,
        "scrolled": true
      },
      "execution_count": null,
      "outputs": []
    },
    {
      "cell_type": "code",
      "source": "print(replacefirst(squares, 7))\nprint(Replacefirst(squares, 7))",
      "metadata": {},
      "execution_count": null,
      "outputs": []
    },
    {
      "cell_type": "markdown",
      "source": "- A function that takes a list `L` and returns a list containing the first, third, and fifth elements of `L`.\n- What might give you problem in this function?",
      "metadata": {}
    },
    {
      "cell_type": "code",
      "source": "def list135(L):\n    return [L[0], L[2], L[4]]\n\nList135 = lambda L: [L[0], L[2], L[4]]",
      "metadata": {
        "collapsed": true
      },
      "execution_count": null,
      "outputs": []
    },
    {
      "cell_type": "markdown",
      "source": "**Exercise 2** \n\n- Define the following functions with both notations, changing the first letter of the name to capital to distinguish them:\n - A function sum2 that returns the sum of the first two elements of a list.\n   ```\n   sum2([4, 7, 9, 12]) ---> 11\n   ```\n - A function that concatenates a list to itself.\n   ```\n   double_lis([4, 7, 9, 12])\n       ---> [4, 7, 9, 12, 4, 7, 9, 12]\n   ```",
      "metadata": {}
    },
    {
      "cell_type": "code",
      "source": "#### Your code here\ndef sum2(L):\n    pass",
      "metadata": {
        "collapsed": true
      },
      "execution_count": null,
      "outputs": []
    },
    {
      "cell_type": "code",
      "source": "#### Your code here\nSum2 = lambda L: ",
      "metadata": {},
      "execution_count": null,
      "outputs": []
    },
    {
      "cell_type": "code",
      "source": "#### Your code here\ndef double_lis(L):\n    pass",
      "metadata": {
        "collapsed": true
      },
      "execution_count": null,
      "outputs": []
    },
    {
      "cell_type": "code",
      "source": "#### Your code here\nDouble_lis = lambda L:",
      "metadata": {},
      "execution_count": null,
      "outputs": []
    },
    {
      "cell_type": "markdown",
      "source": "<p><a name=\"nList\"></a></p>\n## Nested Lists\n\n- Lists can contain any type of values, including other lists.  This can be confusing, but the principle is the same as with any other elements.\n- The list `[v1, v2, …, vn]` has n elements.  The first is `v1`, the second is `v2`, etc.  This is true no matter what the types of the elements are:\n\n - `[1, 2, 3]` has three elements.  (Try `len([1,2,3])`.)\n - `[1, 2, [3, 4, 5]]` also has three elements.\n - `[1, [\"ab\", \"cd\"], [3, 4, 5]]` also has three elements.\n - `[[], [\"ab\", \"cd\"], [3, 4, 5]]` also has three elements.\n\nThe operations we’ve seen above like “`+`”, `len()` and subscripting work the same on nested lists as on non-nested lists.",
      "metadata": {}
    },
    {
      "cell_type": "code",
      "source": "x = [[], 1, ['ab', 'cd'], [3, 4, 5]]\nlen(x)",
      "metadata": {},
      "execution_count": null,
      "outputs": []
    },
    {
      "cell_type": "code",
      "source": "y = [['q', 'r', 's'], 2]\nlen(y)",
      "metadata": {},
      "execution_count": null,
      "outputs": []
    },
    {
      "cell_type": "code",
      "source": "x[2]",
      "metadata": {},
      "execution_count": null,
      "outputs": []
    },
    {
      "cell_type": "code",
      "source": "x[2][0]",
      "metadata": {},
      "execution_count": null,
      "outputs": []
    },
    {
      "cell_type": "code",
      "source": "x + y",
      "metadata": {},
      "execution_count": null,
      "outputs": []
    },
    {
      "cell_type": "markdown",
      "source": "**Exercise 3** \n- Write a function `firstfirst` (in both syntaxes) that takes a nested list as input and returns the first element of the first element.  (The first element must be a non-empty list).\n```\ny = [['q', 'r', 's'], 2]\nfirstfirst(y) ---> 'q'\n```\n- Write a function `subscr2` that takes two arguments: a nested list and a list with two integers.  It uses those two integers as indexes into the nested list:\n```\ny = [['q', 'r', 's'], 2]\nsubscr2(y, [0, 2]) ---> 's'\n```",
      "metadata": {}
    },
    {
      "cell_type": "code",
      "source": "#### Your code here\n\n#1\ndef firstfirst(L):\n    pass",
      "metadata": {
        "collapsed": true
      },
      "execution_count": null,
      "outputs": []
    },
    {
      "cell_type": "code",
      "source": "#### Your code here\nFirstfirst = lambda L:\n",
      "metadata": {},
      "execution_count": null,
      "outputs": []
    },
    {
      "cell_type": "code",
      "source": "#### Your code here\n\n#2\ndef subscr2(L, indexes):\n    pass",
      "metadata": {
        "collapsed": true
      },
      "execution_count": null,
      "outputs": []
    },
    {
      "cell_type": "code",
      "source": "#### Your code here\nSubscr2 = lambda L, indexes: \n",
      "metadata": {},
      "execution_count": null,
      "outputs": []
    },
    {
      "cell_type": "markdown",
      "source": "<p><a name=\"funcOper\"></a></p>\n# Functional Operators\n\n### `map`\n\n- You will often want to apply a function to all elements of a list.\n- Suppose a list `L` has elements that are all numbers, and `f` is a function on numbers.  Then `map(f, L)` is the result of applying `f` to every element of `L`.\n- The `map` function returns a map object, which is an **iterator**.  To get the list use the `list` function.",
      "metadata": {}
    },
    {
      "cell_type": "code",
      "source": "math.sqrt([1,4,9])",
      "metadata": {},
      "execution_count": null,
      "outputs": []
    },
    {
      "cell_type": "code",
      "source": "L = [4, 9, 16]\nmap(math.sqrt, L)",
      "metadata": {},
      "execution_count": null,
      "outputs": []
    },
    {
      "cell_type": "code",
      "source": "list(map(add_two_powers, L))",
      "metadata": {},
      "execution_count": null,
      "outputs": []
    },
    {
      "cell_type": "markdown",
      "source": "You can apply any one-argument function, as long as the values in the list are of the type that function expects.",
      "metadata": {}
    },
    {
      "cell_type": "code",
      "source": "nested_list1 = [[], [\"ab\", \"cd\"], [3, 4, 5]]\nm = list(map(len, nested_list1)) #len applies to lists\nprint(m)",
      "metadata": {},
      "execution_count": null,
      "outputs": []
    },
    {
      "cell_type": "code",
      "source": "# firstelt applies to lists that are of non-zero length\nlist(map(firstelt, nested_list1))",
      "metadata": {},
      "execution_count": null,
      "outputs": []
    },
    {
      "cell_type": "code",
      "source": "list(map(firstelt, nested_list1[1:]))",
      "metadata": {},
      "execution_count": null,
      "outputs": []
    },
    {
      "cell_type": "markdown",
      "source": "Functions can use `map` just as they can use any other function.",
      "metadata": {}
    },
    {
      "cell_type": "code",
      "source": "def get_lengths(L):\n    return list(map(len, L))\n\nGet_lengths = lambda L: list(map(len, L))",
      "metadata": {
        "collapsed": true
      },
      "execution_count": null,
      "outputs": []
    },
    {
      "cell_type": "code",
      "source": "print(get_lengths(nested_list1))\nprint(Get_lengths(nested_list1))",
      "metadata": {},
      "execution_count": null,
      "outputs": []
    },
    {
      "cell_type": "markdown",
      "source": "** Exercise 4**   \n\n- `square_all` squares every element of a numeric list.  (Define `sqr` to square a number, and map it over the list.)\n```\nsquaree_all([1, 2, 3]) ---> [1, 4, 9]\n```\n- `get_second` gets the second element of every list in a nested list. (Define snd to get the second element of a list, and map it.)\n```\nget_second([[1, 2, 3], [4, 5], [6, 7, 8]]) ---> [2, 5, 7]\n```\n- `tot_length` finds the total length of the lists in a nested list.\n```\ntot_length([[1, 2, 3], [4, 5], [6, 7, 8]]) ---> 8\n```",
      "metadata": {}
    },
    {
      "cell_type": "code",
      "source": "#### Your code here\n\n#1\ndef sqr(x):\n    pass\n\ndef square_all(L):\n    pass\n",
      "metadata": {
        "collapsed": true
      },
      "execution_count": null,
      "outputs": []
    },
    {
      "cell_type": "code",
      "source": "#### Your code here\nSquare_all = lambda L: ",
      "metadata": {},
      "execution_count": null,
      "outputs": []
    },
    {
      "cell_type": "code",
      "source": "#### Your code here\n\n#2\ndef snd(x):\n    pass\n\ndef get_second(L):\n    pass\n",
      "metadata": {
        "collapsed": true
      },
      "execution_count": null,
      "outputs": []
    },
    {
      "cell_type": "code",
      "source": "#### Your code here\nGet_second = lambda L: ",
      "metadata": {},
      "execution_count": null,
      "outputs": []
    },
    {
      "cell_type": "code",
      "source": "#### Your code here\n\n#3\ndef tot_length(L):\n    pass\n    \nTot_length = lambda L:\n",
      "metadata": {},
      "execution_count": null,
      "outputs": []
    },
    {
      "cell_type": "markdown",
      "source": "<p><a name=\"bool\"></a></p>\n## Boolean Functions\n\n- Boolean functions return one of the truth values **`True`** or **`False`**.\n- There are built-in operators and functions that return booleans:\n - Arithmetic comparison operators: `==`, `!=`, ...\n- Conditions can be combined using **`and`**, **`or`**, and **`not`**:\n - a **and** b: return True if both a and b are True\n - a **or** b: return True if at least one is True\n - **not** a: return True if a is False",
      "metadata": {}
    },
    {
      "cell_type": "code",
      "source": "#or\nprint(True or True)\nprint(True or False)\nprint(False or False)",
      "metadata": {},
      "execution_count": null,
      "outputs": []
    },
    {
      "cell_type": "code",
      "source": "#and\nprint(True and True)\nprint(True and False)\nprint(False and False)",
      "metadata": {},
      "execution_count": null,
      "outputs": []
    },
    {
      "cell_type": "code",
      "source": "not True",
      "metadata": {},
      "execution_count": null,
      "outputs": []
    },
    {
      "cell_type": "code",
      "source": "True == 1",
      "metadata": {},
      "execution_count": null,
      "outputs": []
    },
    {
      "cell_type": "code",
      "source": "False == 0",
      "metadata": {},
      "execution_count": null,
      "outputs": []
    },
    {
      "cell_type": "markdown",
      "source": "**Note:** \n- The '==' is different from the 'is' operator.\n- The **is** operator checks if both the variables point to the same object whereas the `==` sign checks if the values for the two variables are the same. \n- So if the **is** operator returns True then the equality is definitely True, but the opposite may or may not be True. ",
      "metadata": {}
    },
    {
      "cell_type": "code",
      "source": "a = b = [1,2,3]\nc = [1,2,3]",
      "metadata": {
        "collapsed": true
      },
      "execution_count": null,
      "outputs": []
    },
    {
      "cell_type": "code",
      "source": "print(a == b)\nprint(a == c)",
      "metadata": {},
      "execution_count": null,
      "outputs": []
    },
    {
      "cell_type": "code",
      "source": "print(a is b)\nprint(a is c)",
      "metadata": {},
      "execution_count": null,
      "outputs": []
    },
    {
      "cell_type": "code",
      "source": "x = 6\nprint(x > 5 and x < 7)",
      "metadata": {},
      "execution_count": null,
      "outputs": []
    },
    {
      "cell_type": "code",
      "source": "print(x != -1 or x >= 10)",
      "metadata": {},
      "execution_count": null,
      "outputs": []
    },
    {
      "cell_type": "markdown",
      "source": "Defining boolean functions is no different from defining any other kind of functions.",
      "metadata": {}
    },
    {
      "cell_type": "code",
      "source": "# Test whether a list is empty\ndef is_empty(L):\n    return L == []\n\nIs_empty = lambda L: L == []",
      "metadata": {
        "collapsed": true
      },
      "execution_count": null,
      "outputs": []
    },
    {
      "cell_type": "code",
      "source": "print(Is_empty(squares))\nprint(is_empty([]))",
      "metadata": {},
      "execution_count": null,
      "outputs": []
    },
    {
      "cell_type": "markdown",
      "source": "<p><a name=\"filter\"></a></p>\n### `filter`\n\nFilter extracts elements of a list satisfying some condition. The condition is given in the form of a boolean function.\n\nThe `filter` function also returns an iterator object.  Use `list` to get the associated list.",
      "metadata": {}
    },
    {
      "cell_type": "code",
      "source": "def non_zero(x):\n    return x != 0",
      "metadata": {
        "collapsed": true
      },
      "execution_count": null,
      "outputs": []
    },
    {
      "cell_type": "code",
      "source": "print(non_zero(1))\nprint(non_zero(0))",
      "metadata": {},
      "execution_count": null,
      "outputs": []
    },
    {
      "cell_type": "code",
      "source": "# Get a list of all the non-zero elements of a list\nfilter(non_zero, [1, 2, 0, -3, 0, -5])",
      "metadata": {},
      "execution_count": null,
      "outputs": []
    },
    {
      "cell_type": "code",
      "source": "list(filter(non_zero, [1, 2, 0, -3, 0, -5]))",
      "metadata": {},
      "execution_count": null,
      "outputs": []
    },
    {
      "cell_type": "markdown",
      "source": "Let’s write some functions using filter.",
      "metadata": {}
    },
    {
      "cell_type": "code",
      "source": "# Return all the non-empty lists from a nested list\ndef is_not_empty(L):\n    return L != []",
      "metadata": {
        "collapsed": true
      },
      "execution_count": null,
      "outputs": []
    },
    {
      "cell_type": "code",
      "source": "list(filter(is_not_empty, [[], [1,2,3], [], [4,5,6], []]))",
      "metadata": {},
      "execution_count": null,
      "outputs": []
    },
    {
      "cell_type": "code",
      "source": "list(map(firstelt, filter(is_not_empty, nested_list1)))",
      "metadata": {},
      "execution_count": null,
      "outputs": []
    },
    {
      "cell_type": "markdown",
      "source": "** Exercise 5 **\n\n- Define a boolean function `increase2` that tests whether the first two elements of a list are in increasing order.\n```\nincrease2([2, 5, 4, 9]) ---> True\nincrease2([2, 2, 5, 0]) ---> False\n```\n\n- Define a function `increasing_lists` that selects from a nested list only those lists that satisfy increase2:\n```\nincreasing_lists([[2, 5, 4, 9], [2, 2], [3, 4, 5]]) \n    ---> [[2, 5, 4, 9], [3, 4, 5]]\n```",
      "metadata": {}
    },
    {
      "cell_type": "code",
      "source": "#### Your code here\n\n#1\ndef increase2(L):\n    pass\n\nIncrease2 = lambda L: ",
      "metadata": {},
      "execution_count": null,
      "outputs": []
    },
    {
      "cell_type": "code",
      "source": "#### Your code here\n\n#2\ndef increasing_lists(L):\n    pass\n\nIncreasing_lists = lambda L:",
      "metadata": {},
      "execution_count": null,
      "outputs": []
    },
    {
      "cell_type": "markdown",
      "source": "** Anonymous functions**\n\n- We have been using two notations for defining functions because they will turn out to be useful in different ways. The “`def`” notation is much more common, and we will see that it has some real advantages. But the “`lambda`” notation has one big advantage we can use right now:\n- Lambda functions can be used without assigning them to variables - that is, without naming them.\n ```\n map(lambda x: x**2 + x**3, [2,3,4]) ---> [12, 36, 80]\n filter(lambda x: x != 0, [1, 2, 0, 3, 0, 6]) ---> [1, 2, 3, 6]\n ```\n\n- When lambda functions are defined this way, they are called \"anonymous functions\". As we use `map`, `filter`, and other similar operations more and more, anonymous functions will be really handy.",
      "metadata": {}
    },
    {
      "cell_type": "markdown",
      "source": "<p><a name=\"multiList\"></a></p>\n## Multiple List Operations\n\n- A multiple-list operation is one that combines two lists\n - Add the elements of two lists of the same length\n - Rearrange the elements of one list by using elements of another list as subscripts\n - Select elements of one list corresponding to the True elements in a list of boolean values\n\n- These operations require that we map simultaneously over two lists. There are two ways to do this:\n - Use `map`. We’ve used `map` to map over a single list with a unary function, but it can also be used to map over multiple lists.\n - Use `zip` to put two lists together, then use unary map.\n \n- `map(fun, lis1, lis2)` applies fun to pairs of elements from `lis1` and `lis2`\n - `lis1` and `lis2` must have the same length\n - `fun` is a binary operation whose arguments are of the correct type.\n \n- If `lis1 = [x0, x1, x2, ...]` and `lis2 = [y0, y1, y2, ...]`, then `map(fun, lis1, lis2)` is equal to `[fun(x0, y0), fun(x1, y1), fun(x2, y2), ...]`.",
      "metadata": {}
    },
    {
      "cell_type": "code",
      "source": "list(map(lambda x, y: x+y, [1,2,3], [10,20,30])) # [1+10, 2+20, 3+30]",
      "metadata": {},
      "execution_count": null,
      "outputs": []
    },
    {
      "cell_type": "code",
      "source": "list(map(lambda x, y: x[y], [[1, 2], [2, 3]], [0, 1])) # [[1, 2][0], [2, 3][1]]",
      "metadata": {},
      "execution_count": null,
      "outputs": []
    },
    {
      "cell_type": "markdown",
      "source": "`zip` is a binary function that takes two lists of the same length and makes one list containing pairs of corresponding elements of the two lists.",
      "metadata": {}
    },
    {
      "cell_type": "code",
      "source": "a = [1, 2, 3, 4]\nb = [5, 6, 7, 8]\nlist(zip(a, b))",
      "metadata": {},
      "execution_count": null,
      "outputs": []
    },
    {
      "cell_type": "markdown",
      "source": "- The elements in the zipped list are tuples. These are just like lists, but are written using parentheses instead of square brackets. For the most part, the difference between lists and tuples won’t matter to you.\n- `zip` provides an alternative to binary map:",
      "metadata": {}
    },
    {
      "cell_type": "code",
      "source": "list(map(lambda p: p[0]+p[1], zip([1,2,3], [10,20,30])))",
      "metadata": {},
      "execution_count": null,
      "outputs": []
    },
    {
      "cell_type": "markdown",
      "source": "Both `map` and `zip` can actually apply to more than two lists, in the “obvious” way:",
      "metadata": {}
    },
    {
      "cell_type": "code",
      "source": "a = [1, 2, 3]\nb = [5, 6, 7]\nc = [9, 10, 11]\nlist(zip(a, b, c))",
      "metadata": {},
      "execution_count": null,
      "outputs": []
    },
    {
      "cell_type": "code",
      "source": "list(map(lambda t: t[0]+t[1]+t[2], zip(a,b,c)))",
      "metadata": {},
      "execution_count": null,
      "outputs": []
    },
    {
      "cell_type": "code",
      "source": "list(map(lambda x, y, z: x+y+z, a, b, c))",
      "metadata": {},
      "execution_count": null,
      "outputs": []
    },
    {
      "cell_type": "markdown",
      "source": "**The operator module**\n\nIf you want to apply a built-in operation like `+` in a map, you can write a `lambda` function - `lambda x, y: x+y` - but there is a simpler way. The operator module defines named versions of the built-in operations, just for use in functions like `map`. For example:",
      "metadata": {}
    },
    {
      "cell_type": "code",
      "source": "from operator import *\nprint(list(map(add, [1,2,3], [4, 5, 6])))\nprint(list(map(mul, [1,2,3], [4, 5, 6])))",
      "metadata": {},
      "execution_count": null,
      "outputs": []
    },
    {
      "cell_type": "markdown",
      "source": "The documentation page https://docs.python.org/3/library/operator.html gives the complete list of operator names; see the table at the bottom of the page.",
      "metadata": {}
    },
    {
      "cell_type": "markdown",
      "source": "<p><a name=\"string\"></a></p>\n# String operations\n<p><a name=\"strBasic\"></a></p>\n## String Basics\nString literals are written using either single quotes `('...')` or double quotes `(\"...\")`.",
      "metadata": {}
    },
    {
      "cell_type": "code",
      "source": "s1 = 'Hello world!'\ns1",
      "metadata": {},
      "execution_count": null,
      "outputs": []
    },
    {
      "cell_type": "code",
      "source": "s2 = \"Hello world!\"\ns2",
      "metadata": {},
      "execution_count": null,
      "outputs": []
    },
    {
      "cell_type": "markdown",
      "source": "Within a string, special symbols can be included by using escape character `(\\)`. Examples are `\\t` for tab and `\\n` for newline.",
      "metadata": {}
    },
    {
      "cell_type": "code",
      "source": "print('this', 'is', 'a', 'tab', sep='\\t')\nprint('that', 'is', 'a', 'newline', sep='\\n')",
      "metadata": {},
      "execution_count": null,
      "outputs": []
    },
    {
      "cell_type": "markdown",
      "source": "Note that we can enclose double quotes by single quotes. But the single quotes included in a string need to be modified with escaped chatacter. Otherwise:",
      "metadata": {}
    },
    {
      "cell_type": "code",
      "source": "sent = '\"Isn't that,\" she said.'",
      "metadata": {},
      "execution_count": null,
      "outputs": []
    },
    {
      "cell_type": "markdown",
      "source": "The `print()` function produces a more readable output by omitting enclosing quotes as well as escaped characters and special symbols:",
      "metadata": {}
    },
    {
      "cell_type": "code",
      "source": "sent = '\"Isn\\'t that,\" she said.'\nprint(sent)",
      "metadata": {},
      "execution_count": null,
      "outputs": []
    },
    {
      "cell_type": "markdown",
      "source": "If you don't want the characters prefaced by `\\ ` to be interpreted as special characters, you can use raw strings by adding an `r` before the first quote: ",
      "metadata": {}
    },
    {
      "cell_type": "code",
      "source": "print('C:\\some\\name')",
      "metadata": {},
      "execution_count": null,
      "outputs": []
    },
    {
      "cell_type": "code",
      "source": "len('C:\\some\\name')",
      "metadata": {},
      "execution_count": null,
      "outputs": []
    },
    {
      "cell_type": "markdown",
      "source": "Above, `\\n` is interpreted as one special character. To avoid that, add `r` in front of the first quote, then `\\n` become two chatacters.",
      "metadata": {}
    },
    {
      "cell_type": "code",
      "source": "print(r'C:\\some\\name')",
      "metadata": {},
      "execution_count": null,
      "outputs": []
    },
    {
      "cell_type": "code",
      "source": "len(r'C:\\some\\name')",
      "metadata": {},
      "execution_count": null,
      "outputs": []
    },
    {
      "cell_type": "markdown",
      "source": "A string is normally coded in one line, but it can also be broken into multiple lines of code by adding `\\ ` in the very last position of each line.",
      "metadata": {}
    },
    {
      "cell_type": "code",
      "source": "longquote = 'This is a particularly long line \\\nthat is broken into two lines'\n\nprint(longquote)",
      "metadata": {},
      "execution_count": null,
      "outputs": []
    },
    {
      "cell_type": "markdown",
      "source": "Python also has multiple lineotes: enclose the string with three quotation marks. Note that with three quotation marks the newlines are included",
      "metadata": {}
    },
    {
      "cell_type": "code",
      "source": "longquote = '''This is a particularly long line\nthat is broken into two lines'''\n\nprint(longquote)",
      "metadata": {},
      "execution_count": null,
      "outputs": []
    },
    {
      "cell_type": "markdown",
      "source": "Multiline quotes is often used for docstring.",
      "metadata": {}
    },
    {
      "cell_type": "code",
      "source": "def my_fun(x):\n    '''\n    This function takes a numeric number as input and return its cube\n    Parameters:\n    ----------\n    x: numeric numbers\n    \n    Returns:\n    -------\n    x**3\n    '''\n    return x**3",
      "metadata": {
        "collapsed": true
      },
      "execution_count": null,
      "outputs": []
    },
    {
      "cell_type": "code",
      "source": "my_fun(2)",
      "metadata": {},
      "execution_count": null,
      "outputs": []
    },
    {
      "cell_type": "markdown",
      "source": "- Strings are similar to lists. You can subscipt and slice, as well as use `+` to concatenate strings.\n- Empty space does count as a character.",
      "metadata": {}
    },
    {
      "cell_type": "code",
      "source": "s = 'My dog has fleas'\ns[1]",
      "metadata": {},
      "execution_count": null,
      "outputs": []
    },
    {
      "cell_type": "code",
      "source": "s[3:6]",
      "metadata": {},
      "execution_count": null,
      "outputs": []
    },
    {
      "cell_type": "code",
      "source": "s + ' and so do I.'",
      "metadata": {},
      "execution_count": null,
      "outputs": []
    },
    {
      "cell_type": "markdown",
      "source": "Convert a string to a list of single-character strings using the function `list()`:",
      "metadata": {}
    },
    {
      "cell_type": "code",
      "source": "list('dog')",
      "metadata": {},
      "execution_count": null,
      "outputs": []
    },
    {
      "cell_type": "markdown",
      "source": "<p><a name=\"OMC\"></a></p>\n## Object Method Calls\n\nWe saw how we could split a string into a list. Going the other way requires a trick.",
      "metadata": {}
    },
    {
      "cell_type": "code",
      "source": "\"\".join(['d','o','g'])",
      "metadata": {},
      "execution_count": null,
      "outputs": []
    },
    {
      "cell_type": "markdown",
      "source": "- We have already seen the dot notation when calling functions from a module, for exaple: `math.sqrt()`.\n - Then you might be wondering: why does an empty string have a function?\n\n- To answer this question, we need to mention an important fact that Python is an **object-oriented language**. Without delving into details, this means Python takes many useful types of data as **objects**, including strings. Each object is associated with **methods** that can be applied to them.\n - Essentially a method is a function. A function associated with an object is called a method.\n\n- A method is always called by an object it is associated with, and the syntax is:\n - `object.method(argument1, argument2, ...)`\n\n- Therefore, in our previous example:\n - The empty string `''` is used to call the function `join`.\n - The method `join` then concatenate the strings in the list passed to it.\n \n- Object oriented programming is actually an important feature of Python. We can even create our own objects. We will discuss this advanced topic later in this course.",
      "metadata": {}
    },
    {
      "cell_type": "markdown",
      "source": "<p><a name=\"buildin\"></a></p>\n## Built-in Strings Operations\n\nPython comes with a large set of functions to perform useful operations strings. We will discuss several, for a complete list, see\n\nhttps://docs.python.org/3/library/string.html",
      "metadata": {}
    },
    {
      "cell_type": "markdown",
      "source": "- **`strip`** removes \"whitespace\" (spaces, tab, newlines,..., etc) from the beginning and the end f a string. Note the usage of object-oriented syntax:",
      "metadata": {}
    },
    {
      "cell_type": "code",
      "source": "s = '    my dog has fleas    '\ns.strip()",
      "metadata": {},
      "execution_count": null,
      "outputs": []
    },
    {
      "cell_type": "markdown",
      "source": "- **`split`** is an extremely useful function that splits a string into a list of strings on the delimeter. By default, the delimeter consists of spaces, tabs `(\\t)`, and newlines `(\\n)`, but the delimeter can be given as an argument.",
      "metadata": {}
    },
    {
      "cell_type": "code",
      "source": "s = 'my dog has fleas'\ns.split()",
      "metadata": {},
      "execution_count": null,
      "outputs": []
    },
    {
      "cell_type": "code",
      "source": "s1 = 'my,dog,has,fleas'\ns1.split(',')",
      "metadata": {},
      "execution_count": null,
      "outputs": []
    },
    {
      "cell_type": "markdown",
      "source": "- **`join`** concatenate a list of words with intervening occurences of a delimeter. You can take join as the inverse of `split`. For example:",
      "metadata": {}
    },
    {
      "cell_type": "code",
      "source": "l = ['my','dog','has','fleas']\n' '.join(l)",
      "metadata": {},
      "execution_count": null,
      "outputs": []
    },
    {
      "cell_type": "code",
      "source": "', '.join(l)",
      "metadata": {},
      "execution_count": null,
      "outputs": []
    },
    {
      "cell_type": "markdown",
      "source": "- **`replace`** returns a string with all occurences of one string replaced by another. For example:",
      "metadata": {}
    },
    {
      "cell_type": "code",
      "source": "s = 'He is my classmate, and he is learning Python'\ns.replace('is','was')",
      "metadata": {},
      "execution_count": null,
      "outputs": []
    },
    {
      "cell_type": "markdown",
      "source": "- The object parameter is the string within which replacement takes place and the first parameter is the string to be replaced by the second parameter.\n- If you only want the first occurence of the string to be replaced, you can pass it to the third argument:",
      "metadata": {}
    },
    {
      "cell_type": "code",
      "source": "s.replace('is', 'was', 1)",
      "metadata": {},
      "execution_count": null,
      "outputs": []
    },
    {
      "cell_type": "markdown",
      "source": "- **`find`** returns the lowest index in string `s` where the substring *sub* is found. It returns -1 on failure.",
      "metadata": {}
    },
    {
      "cell_type": "code",
      "source": "s = 'my dog has fleas'\ns.find('dog')",
      "metadata": {},
      "execution_count": null,
      "outputs": []
    },
    {
      "cell_type": "code",
      "source": "s.find('dogs')",
      "metadata": {},
      "execution_count": null,
      "outputs": []
    },
    {
      "cell_type": "markdown",
      "source": "If we want to find the substring *sub* within a range we need to specify it:",
      "metadata": {}
    },
    {
      "cell_type": "code",
      "source": "s.find('a')",
      "metadata": {},
      "execution_count": null,
      "outputs": []
    },
    {
      "cell_type": "code",
      "source": "s.find('a', 9)",
      "metadata": {},
      "execution_count": null,
      "outputs": []
    },
    {
      "cell_type": "markdown",
      "source": "**Hello print()**",
      "metadata": {}
    },
    {
      "cell_type": "markdown",
      "source": "- The `%` operator is used to create nicely formatted strings from other values. Its syntax is `format_specifier % (tuple of values)`.\n- `format_specifier` is a string containing special format symbols, which are used to insert values from the tuple:\n  - `%s` means inserting a string.\n  - `%d` means inserting an integer.\n  - `%f` means inserting a float.\n- To specify the number of decimal places shown with a float place a `.` and number of decimal places between the `%` and the `f`.\n- The number of format symbol in the format specifier must equal to the number of values in the tuple, and each format symbol must match the type of the corresponding value in the tuple.",
      "metadata": {}
    },
    {
      "cell_type": "code",
      "source": "print(\"hello, %f!\" % 2017)\nprint(\"hello, %d!\" % 2017)\nprint(\"hello, %.2f!\" % 2017.1314)",
      "metadata": {
        "scrolled": true
      },
      "execution_count": null,
      "outputs": []
    },
    {
      "cell_type": "code",
      "source": "print('My name is %s and I am %d years old' % ('Mike', 25))",
      "metadata": {},
      "execution_count": null,
      "outputs": []
    },
    {
      "cell_type": "markdown",
      "source": "The format function is a newer, and more powerful, method to format strings.  Its syntax is different:",
      "metadata": {}
    },
    {
      "cell_type": "code",
      "source": "print('My name is {0} and I am {1} years old'.format('Mike', 25))",
      "metadata": {},
      "execution_count": null,
      "outputs": []
    },
    {
      "cell_type": "markdown",
      "source": "You can also give each format specifier an alias and call it in the format function.",
      "metadata": {}
    },
    {
      "cell_type": "code",
      "source": "print('My name is {name} and I am {age} years old'.format(name='Mike', age=25))",
      "metadata": {},
      "execution_count": null,
      "outputs": []
    },
    {
      "cell_type": "markdown",
      "source": "- For details about format, see https://docs.python.org/3/library/string.html#format-string-syntax\n\n- The easiest way to convert an integer or float to a string is to use the built-in str function.",
      "metadata": {}
    },
    {
      "cell_type": "code",
      "source": "str(10.0)",
      "metadata": {},
      "execution_count": null,
      "outputs": []
    },
    {
      "cell_type": "markdown",
      "source": "<p><a name=\"MinMap\"></a></p>\n## Method call in `map`\n\n- Object notation causes one problem. Suppose we have a method *fun* on strings, and suppose it has no arguments.  \n- So we apply it to string s by writing: `s.fun()`.\n\n- Now suppose we want to apply *fun* to every element of a list of strings. How can we do that?\n\n - We can try `map(fun, L)`, but that doesn’t work. \n\n- Instead, turn the method into a function:\n\n - `lambda s: s.fun()`\n\n or\n\n - `def newfun(s): return s.fun()`\n\n- E.g., here is a way to “`strip`” every string in a list:",
      "metadata": {}
    },
    {
      "cell_type": "code",
      "source": "lis = [\" abc  \\n\", \" def\", \"ghi   \"]\nlist(map(lambda s: s.strip(), lis))",
      "metadata": {},
      "execution_count": null,
      "outputs": []
    },
    {
      "cell_type": "markdown",
      "source": "Here is a way to remove the strings that contain the word “No”:",
      "metadata": {}
    },
    {
      "cell_type": "code",
      "source": "# Return true if s does *not* contain 'No'\ndef has_no_no(s):\n    return s.find('No') == -1\n\nL = ['No rain', 'Some snow', 'No sleet']\nlist(filter(has_no_no, L))",
      "metadata": {},
      "execution_count": null,
      "outputs": []
    },
    {
      "cell_type": "markdown",
      "source": "<p><a name=\"case\"></a></p>\n## Case Conversion\n\nPython has provided some built-in functions to do case conversions:",
      "metadata": {}
    },
    {
      "cell_type": "code",
      "source": "'ABcd'.lower()      # convert to lowercase",
      "metadata": {},
      "execution_count": null,
      "outputs": []
    },
    {
      "cell_type": "code",
      "source": "'ABcd'.upper()      # convert to uppercase",
      "metadata": {},
      "execution_count": null,
      "outputs": []
    },
    {
      "cell_type": "code",
      "source": "'ABcd'.swapcase()   # swap case",
      "metadata": {},
      "execution_count": null,
      "outputs": []
    },
    {
      "cell_type": "code",
      "source": "'aCd acD'.title()   # make first letters uppercase",
      "metadata": {},
      "execution_count": null,
      "outputs": []
    },
    {
      "cell_type": "markdown",
      "source": "**Exercise 6**\n\n- Define function `find_char(s, t)` to find the lowest index of string `t` in each word in `s`:\n```\ns = 'today is a nice day'\nfind_char(s, 'i') ---> [-1, 0, -1, 1, -1]\n```\nYou need to first split the string `s` and then map the `find` function.\n\n\n- Use `filter` to find the strings in a list that do contain No.\n```\nL = ['No rain', 'Some snow', 'No sleet']\nfilter(has_no, L) ---> ['No rain', 'No sleet']\n```",
      "metadata": {}
    },
    {
      "cell_type": "code",
      "source": "#### Your code here\n\n#1\ndef find_char(s, t):\n    pass\n    \n#2\n\n",
      "metadata": {
        "collapsed": true
      },
      "execution_count": null,
      "outputs": []
    },
    {
      "cell_type": "markdown",
      "source": "<p><a name=\"sol\"></a></p>\n## Solutions",
      "metadata": {}
    },
    {
      "cell_type": "markdown",
      "source": "**Exercise 1**",
      "metadata": {}
    },
    {
      "cell_type": "code",
      "source": "import math\ndef area(r):\n    return math.pi * r**2\n\nArea = lambda r: math.pi * r**2",
      "metadata": {
        "collapsed": true
      },
      "execution_count": null,
      "outputs": []
    },
    {
      "cell_type": "markdown",
      "source": "**Exercise 2**",
      "metadata": {}
    },
    {
      "cell_type": "code",
      "source": "def sum2(L):\n    return L[0] + L[1]\n\nSum2 = lambda L: L[0] + L[1]\n\ndef double_lis(L):\n    return L + L\n\nDouble_lis = lambda L: L + L",
      "metadata": {
        "collapsed": true
      },
      "execution_count": null,
      "outputs": []
    },
    {
      "cell_type": "markdown",
      "source": "**Exercise 3**",
      "metadata": {}
    },
    {
      "cell_type": "code",
      "source": "#1\ndef firstfirst(L):\n    return L[0][0]\n\nFirstfirst = lambda L: L[0][0]\n\n#2\ndef subscr2(L, indexes):\n    return L[indexes[0]][indexes[1]]\n\nSubscr2 = lambda L, indexes: L[indexes[0]][indexes[1]]",
      "metadata": {
        "collapsed": true
      },
      "execution_count": null,
      "outputs": []
    },
    {
      "cell_type": "markdown",
      "source": "**Exercise 4**",
      "metadata": {}
    },
    {
      "cell_type": "code",
      "source": "#1\ndef sqr(x):\n    return x**2\ndef square_all(L):\n    return list(map(sqr, L))\nSquare_all = lambda L: list(map(sqr, L))\n\n#2\nsnd = lambda x: x[1]\ndef get_second(L):\n    return list(map(snd, L))\nGet_second = lambda L: list(map(snd, L))\n\n#3\ndef tot_length(L):\n    return sum(map(len, L))\nTot_length = lambda L: sum(map(len, L))",
      "metadata": {
        "collapsed": true
      },
      "execution_count": null,
      "outputs": []
    },
    {
      "cell_type": "markdown",
      "source": "**Exercise 5**",
      "metadata": {}
    },
    {
      "cell_type": "code",
      "source": "#1\ndef increase2(L):\n    return L[0] < L[1]\nIncrease2 = lambda L: L[0] < L[1]\n\n#2\ndef increasing_lists(L):\n    return filter(increase2, L)\nIncreasing_lists = lambda L:  list(filter(increase2, L))",
      "metadata": {
        "collapsed": true
      },
      "execution_count": null,
      "outputs": []
    },
    {
      "cell_type": "markdown",
      "source": "**Exercise 6**",
      "metadata": {}
    },
    {
      "cell_type": "code",
      "source": "# 1\ndef find_char(s, t):\n    return list(map(lambda s: s.find(t), s.split()))\n\ns = 'today is a nice day'\nfind_char(s, 'i')\n\n# 2\nhas_no = lambda s: s.find('No') != -1\nlist(filter(has_no, L))",
      "metadata": {},
      "execution_count": null,
      "outputs": []
    }
  ]
}