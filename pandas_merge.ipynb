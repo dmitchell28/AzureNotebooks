{
  "metadata": {
    "kernelspec": {
      "display_name": "Python 3",
      "language": "python",
      "name": "python3"
    },
    "language_info": {
      "mimetype": "text/x-python",
      "nbconvert_exporter": "python",
      "name": "python",
      "file_extension": ".py",
      "version": "3.5.4",
      "pygments_lexer": "ipython3",
      "codemirror_mode": {
        "version": 3,
        "name": "ipython"
      }
    }
  },
  "nbformat_minor": 2,
  "nbformat": 4,
  "cells": [
    {
      "cell_type": "markdown",
      "source": "# How do I merge DataFrames in pandas? ([video](https://www.youtube.com/watch?v=iYWKfUOtGaw&list=PL5-da3qGB5ICCsgW1MxlZ0Hq8LL5U3u9y&index=32))\n\n- [My pandas video series](https://www.dataschool.io/easier-data-analysis-with-pandas/)\n- [GitHub repository](https://github.com/justmarkham/pandas-videos)",
      "metadata": {}
    },
    {
      "cell_type": "markdown",
      "source": "## Table of contents\n\n1. Selecting a Function\n2. Joining (Merging) DataFrames\n3. What if...?\n4. Four Types of Joins",
      "metadata": {}
    },
    {
      "cell_type": "markdown",
      "source": "# Part 1: Selecting a Function",
      "metadata": {}
    },
    {
      "cell_type": "markdown",
      "source": "Taken from [Merging DataFrames with pandas](https://www.datacamp.com/courses/merging-dataframes-with-pandas?tap_a=5644-dce66f&tap_s=280411-a25fc8) (DataCamp course):\n\n- `df1.append(df2)`: stacking vertically\n- `pd.concat([df1, df2])`:\n  - stacking many horizontally or vertically\n  - simple inner/outer joins on Indexes\n- `df1.join(df2)`: inner/outer/left/right joins on Indexes\n- `pd.merge(df1, df2)`: many joins on multiple columns",
      "metadata": {}
    },
    {
      "cell_type": "markdown",
      "source": "# Part 2: Joining (Merging) DataFrames",
      "metadata": {}
    },
    {
      "cell_type": "markdown",
      "source": "Using the [MovieLens 100k data](http://grouplens.org/datasets/movielens/), let's create two DataFrames:\n\n- **movies**: shows information about movies, namely a unique **movie_id** and its **title**\n- **ratings**: shows the **rating** that a particular **user_id** gave to a particular **movie_id** at a particular **timestamp**",
      "metadata": {}
    },
    {
      "cell_type": "code",
      "source": "import pandas as pd",
      "metadata": {
        "trusted": true
      },
      "execution_count": 1,
      "outputs": []
    },
    {
      "cell_type": "markdown",
      "source": "## Movies",
      "metadata": {}
    },
    {
      "cell_type": "code",
      "source": "movie_cols = ['movie_id', 'title']\nmovies = pd.read_table('u.item.txt', sep='|', header=None, names=movie_cols, usecols=[0, 1])\nmovies.head()",
      "metadata": {
        "trusted": true
      },
      "execution_count": 4,
      "outputs": [
        {
          "execution_count": 4,
          "output_type": "execute_result",
          "data": {
            "text/plain": "   movie_id              title\n0         1   Toy Story (1995)\n1         2   GoldenEye (1995)\n2         3  Four Rooms (1995)\n3         4  Get Shorty (1995)\n4         5     Copycat (1995)",
            "text/html": "<div>\n<table border=\"1\" class=\"dataframe\">\n  <thead>\n    <tr style=\"text-align: right;\">\n      <th></th>\n      <th>movie_id</th>\n      <th>title</th>\n    </tr>\n  </thead>\n  <tbody>\n    <tr>\n      <th>0</th>\n      <td>1</td>\n      <td>Toy Story (1995)</td>\n    </tr>\n    <tr>\n      <th>1</th>\n      <td>2</td>\n      <td>GoldenEye (1995)</td>\n    </tr>\n    <tr>\n      <th>2</th>\n      <td>3</td>\n      <td>Four Rooms (1995)</td>\n    </tr>\n    <tr>\n      <th>3</th>\n      <td>4</td>\n      <td>Get Shorty (1995)</td>\n    </tr>\n    <tr>\n      <th>4</th>\n      <td>5</td>\n      <td>Copycat (1995)</td>\n    </tr>\n  </tbody>\n</table>\n</div>"
          },
          "metadata": {}
        }
      ]
    },
    {
      "cell_type": "code",
      "source": "movies.shape",
      "metadata": {
        "trusted": true
      },
      "execution_count": 5,
      "outputs": [
        {
          "execution_count": 5,
          "output_type": "execute_result",
          "data": {
            "text/plain": "(1682, 2)"
          },
          "metadata": {}
        }
      ]
    },
    {
      "cell_type": "code",
      "source": "movies.movie_id.nunique()",
      "metadata": {
        "trusted": true
      },
      "execution_count": 6,
      "outputs": [
        {
          "execution_count": 6,
          "output_type": "execute_result",
          "data": {
            "text/plain": "1682"
          },
          "metadata": {}
        }
      ]
    },
    {
      "cell_type": "markdown",
      "source": "## Ratings",
      "metadata": {}
    },
    {
      "cell_type": "code",
      "source": "rating_cols = ['user_id', 'movie_id', 'rating', 'timestamp']\nratings = pd.read_table('u.data.txt', sep='\\t', header=None, names=rating_cols)\nratings.head()",
      "metadata": {
        "trusted": true
      },
      "execution_count": 7,
      "outputs": [
        {
          "execution_count": 7,
          "output_type": "execute_result",
          "data": {
            "text/plain": "   user_id  movie_id  rating  timestamp\n0      196       242       3  881250949\n1      186       302       3  891717742\n2       22       377       1  878887116\n3      244        51       2  880606923\n4      166       346       1  886397596",
            "text/html": "<div>\n<table border=\"1\" class=\"dataframe\">\n  <thead>\n    <tr style=\"text-align: right;\">\n      <th></th>\n      <th>user_id</th>\n      <th>movie_id</th>\n      <th>rating</th>\n      <th>timestamp</th>\n    </tr>\n  </thead>\n  <tbody>\n    <tr>\n      <th>0</th>\n      <td>196</td>\n      <td>242</td>\n      <td>3</td>\n      <td>881250949</td>\n    </tr>\n    <tr>\n      <th>1</th>\n      <td>186</td>\n      <td>302</td>\n      <td>3</td>\n      <td>891717742</td>\n    </tr>\n    <tr>\n      <th>2</th>\n      <td>22</td>\n      <td>377</td>\n      <td>1</td>\n      <td>878887116</td>\n    </tr>\n    <tr>\n      <th>3</th>\n      <td>244</td>\n      <td>51</td>\n      <td>2</td>\n      <td>880606923</td>\n    </tr>\n    <tr>\n      <th>4</th>\n      <td>166</td>\n      <td>346</td>\n      <td>1</td>\n      <td>886397596</td>\n    </tr>\n  </tbody>\n</table>\n</div>"
          },
          "metadata": {}
        }
      ]
    },
    {
      "cell_type": "code",
      "source": "ratings.shape",
      "metadata": {
        "trusted": true
      },
      "execution_count": 8,
      "outputs": [
        {
          "execution_count": 8,
          "output_type": "execute_result",
          "data": {
            "text/plain": "(100000, 4)"
          },
          "metadata": {}
        }
      ]
    },
    {
      "cell_type": "code",
      "source": "ratings.movie_id.nunique()",
      "metadata": {
        "trusted": true
      },
      "execution_count": 9,
      "outputs": [
        {
          "execution_count": 9,
          "output_type": "execute_result",
          "data": {
            "text/plain": "1682"
          },
          "metadata": {}
        }
      ]
    },
    {
      "cell_type": "code",
      "source": "ratings.loc[ratings.movie_id == 1, :].head()",
      "metadata": {
        "trusted": true
      },
      "execution_count": 10,
      "outputs": [
        {
          "execution_count": 10,
          "output_type": "execute_result",
          "data": {
            "text/plain": "      user_id  movie_id  rating  timestamp\n24        308         1       4  887736532\n454       287         1       5  875334088\n957       148         1       4  877019411\n971       280         1       4  891700426\n1324       66         1       3  883601324",
            "text/html": "<div>\n<table border=\"1\" class=\"dataframe\">\n  <thead>\n    <tr style=\"text-align: right;\">\n      <th></th>\n      <th>user_id</th>\n      <th>movie_id</th>\n      <th>rating</th>\n      <th>timestamp</th>\n    </tr>\n  </thead>\n  <tbody>\n    <tr>\n      <th>24</th>\n      <td>308</td>\n      <td>1</td>\n      <td>4</td>\n      <td>887736532</td>\n    </tr>\n    <tr>\n      <th>454</th>\n      <td>287</td>\n      <td>1</td>\n      <td>5</td>\n      <td>875334088</td>\n    </tr>\n    <tr>\n      <th>957</th>\n      <td>148</td>\n      <td>1</td>\n      <td>4</td>\n      <td>877019411</td>\n    </tr>\n    <tr>\n      <th>971</th>\n      <td>280</td>\n      <td>1</td>\n      <td>4</td>\n      <td>891700426</td>\n    </tr>\n    <tr>\n      <th>1324</th>\n      <td>66</td>\n      <td>1</td>\n      <td>3</td>\n      <td>883601324</td>\n    </tr>\n  </tbody>\n</table>\n</div>"
          },
          "metadata": {}
        }
      ]
    },
    {
      "cell_type": "markdown",
      "source": "## Merging Movies and Ratings",
      "metadata": {}
    },
    {
      "cell_type": "markdown",
      "source": "Let's pretend that you want to examine the ratings DataFrame, but you want to know the **title** of each movie rather than its **movie_id**. The best way to accomplish this objective is by \"joining\" (or \"merging\") the DataFrames using the Pandas `merge` function:",
      "metadata": {}
    },
    {
      "cell_type": "code",
      "source": "movies.columns",
      "metadata": {
        "trusted": true
      },
      "execution_count": 11,
      "outputs": [
        {
          "execution_count": 11,
          "output_type": "execute_result",
          "data": {
            "text/plain": "Index(['movie_id', 'title'], dtype='object')"
          },
          "metadata": {}
        }
      ]
    },
    {
      "cell_type": "code",
      "source": "ratings.columns",
      "metadata": {
        "trusted": true
      },
      "execution_count": 12,
      "outputs": [
        {
          "execution_count": 12,
          "output_type": "execute_result",
          "data": {
            "text/plain": "Index(['user_id', 'movie_id', 'rating', 'timestamp'], dtype='object')"
          },
          "metadata": {}
        }
      ]
    },
    {
      "cell_type": "code",
      "source": "movie_ratings = pd.merge(movies, ratings)\nmovie_ratings.columns",
      "metadata": {
        "trusted": true
      },
      "execution_count": 13,
      "outputs": [
        {
          "execution_count": 13,
          "output_type": "execute_result",
          "data": {
            "text/plain": "Index(['movie_id', 'title', 'user_id', 'rating', 'timestamp'], dtype='object')"
          },
          "metadata": {}
        }
      ]
    },
    {
      "cell_type": "code",
      "source": "movie_ratings.head()",
      "metadata": {
        "trusted": true
      },
      "execution_count": 14,
      "outputs": [
        {
          "execution_count": 14,
          "output_type": "execute_result",
          "data": {
            "text/plain": "   movie_id             title  user_id  rating  timestamp\n0         1  Toy Story (1995)      308       4  887736532\n1         1  Toy Story (1995)      287       5  875334088\n2         1  Toy Story (1995)      148       4  877019411\n3         1  Toy Story (1995)      280       4  891700426\n4         1  Toy Story (1995)       66       3  883601324",
            "text/html": "<div>\n<table border=\"1\" class=\"dataframe\">\n  <thead>\n    <tr style=\"text-align: right;\">\n      <th></th>\n      <th>movie_id</th>\n      <th>title</th>\n      <th>user_id</th>\n      <th>rating</th>\n      <th>timestamp</th>\n    </tr>\n  </thead>\n  <tbody>\n    <tr>\n      <th>0</th>\n      <td>1</td>\n      <td>Toy Story (1995)</td>\n      <td>308</td>\n      <td>4</td>\n      <td>887736532</td>\n    </tr>\n    <tr>\n      <th>1</th>\n      <td>1</td>\n      <td>Toy Story (1995)</td>\n      <td>287</td>\n      <td>5</td>\n      <td>875334088</td>\n    </tr>\n    <tr>\n      <th>2</th>\n      <td>1</td>\n      <td>Toy Story (1995)</td>\n      <td>148</td>\n      <td>4</td>\n      <td>877019411</td>\n    </tr>\n    <tr>\n      <th>3</th>\n      <td>1</td>\n      <td>Toy Story (1995)</td>\n      <td>280</td>\n      <td>4</td>\n      <td>891700426</td>\n    </tr>\n    <tr>\n      <th>4</th>\n      <td>1</td>\n      <td>Toy Story (1995)</td>\n      <td>66</td>\n      <td>3</td>\n      <td>883601324</td>\n    </tr>\n  </tbody>\n</table>\n</div>"
          },
          "metadata": {}
        }
      ]
    },
    {
      "cell_type": "code",
      "source": "movie_ratings.shape",
      "metadata": {
        "trusted": true
      },
      "execution_count": 15,
      "outputs": [
        {
          "execution_count": 15,
          "output_type": "execute_result",
          "data": {
            "text/plain": "(100000, 5)"
          },
          "metadata": {}
        }
      ]
    },
    {
      "cell_type": "markdown",
      "source": "Here's what just happened:\n\n- Pandas noticed that movies and ratings had one column in common, namely **movie_id**. This is the \"key\" on which the DataFrames will be joined.\n- The first **movie_id** in movies is 1. Thus, Pandas looked through every row in the ratings DataFrame, searching for a movie_id of 1. Every time it found such a row, it recorded the **user_id**, **rating**, and **timestamp** listed in that row. In this case, it found 452 matching rows.\n- The second **movie_id** in movies is 2. Again, Pandas did a search of ratings and found 131 matching rows.\n- This process was repeated for all of the remaining rows in movies.\n\nAt the end of the process, the movie_ratings DataFrame is created, which contains the two columns from movies (**movie_id** and **title**) and the three other colums from ratings (**user_id**, **rating**, and **timestamp**).\n\n- **movie_id** 1 and its **title** are listed 452 times, next to the **user_id**, **rating**, and **timestamp** for each of the 452 matching ratings.\n- **movie_id** 2 and its **title** are listed 131 times, next to the **user_id**, **rating**, and **timestamp** for each of the 131 matching ratings.\n- And so on, for every movie in the dataset.",
      "metadata": {}
    },
    {
      "cell_type": "code",
      "source": "print(movies.shape)\nprint(ratings.shape)\nprint(movie_ratings.shape)",
      "metadata": {
        "trusted": true
      },
      "execution_count": 16,
      "outputs": [
        {
          "text": "(1682, 2)\n(100000, 4)\n(100000, 5)\n",
          "name": "stdout",
          "output_type": "stream"
        }
      ]
    },
    {
      "cell_type": "markdown",
      "source": "Notice the shapes of the three DataFrames:\n\n- There are 1682 rows in the movies DataFrame.\n- There are 100000 rows in the ratings DataFrame.\n- The `merge` function resulted in a movie_ratings DataFrame with 100000 rows, because every row from ratings matched a row from movies.\n- The movie_ratings DataFrame has 5 columns, namely the 2 columns from movies, plus the 4 columns from ratings, minus the 1 column in common.\n\nBy default, the `merge` function joins the DataFrames using all column names that are in common (**movie_id**, in this case). The [documentation](https://pandas.pydata.org/pandas-docs/stable/generated/pandas.merge.html) explains how you can override this behavior.",
      "metadata": {}
    },
    {
      "cell_type": "markdown",
      "source": "# Part 3: What if...?",
      "metadata": {}
    },
    {
      "cell_type": "markdown",
      "source": "## What if the columns you want to join on don't have the same name?",
      "metadata": {}
    },
    {
      "cell_type": "code",
      "source": "movies.columns = ['m_id', 'title']\nmovies.columns",
      "metadata": {
        "trusted": true
      },
      "execution_count": 17,
      "outputs": [
        {
          "execution_count": 17,
          "output_type": "execute_result",
          "data": {
            "text/plain": "Index(['m_id', 'title'], dtype='object')"
          },
          "metadata": {}
        }
      ]
    },
    {
      "cell_type": "code",
      "source": "ratings.columns",
      "metadata": {
        "trusted": true
      },
      "execution_count": 18,
      "outputs": [
        {
          "execution_count": 18,
          "output_type": "execute_result",
          "data": {
            "text/plain": "Index(['user_id', 'movie_id', 'rating', 'timestamp'], dtype='object')"
          },
          "metadata": {}
        }
      ]
    },
    {
      "cell_type": "code",
      "source": "pd.merge(movies, ratings, left_on='m_id', right_on='movie_id').head()",
      "metadata": {
        "trusted": true
      },
      "execution_count": 19,
      "outputs": [
        {
          "execution_count": 19,
          "output_type": "execute_result",
          "data": {
            "text/plain": "   m_id             title  user_id  movie_id  rating  timestamp\n0     1  Toy Story (1995)      308         1       4  887736532\n1     1  Toy Story (1995)      287         1       5  875334088\n2     1  Toy Story (1995)      148         1       4  877019411\n3     1  Toy Story (1995)      280         1       4  891700426\n4     1  Toy Story (1995)       66         1       3  883601324",
            "text/html": "<div>\n<table border=\"1\" class=\"dataframe\">\n  <thead>\n    <tr style=\"text-align: right;\">\n      <th></th>\n      <th>m_id</th>\n      <th>title</th>\n      <th>user_id</th>\n      <th>movie_id</th>\n      <th>rating</th>\n      <th>timestamp</th>\n    </tr>\n  </thead>\n  <tbody>\n    <tr>\n      <th>0</th>\n      <td>1</td>\n      <td>Toy Story (1995)</td>\n      <td>308</td>\n      <td>1</td>\n      <td>4</td>\n      <td>887736532</td>\n    </tr>\n    <tr>\n      <th>1</th>\n      <td>1</td>\n      <td>Toy Story (1995)</td>\n      <td>287</td>\n      <td>1</td>\n      <td>5</td>\n      <td>875334088</td>\n    </tr>\n    <tr>\n      <th>2</th>\n      <td>1</td>\n      <td>Toy Story (1995)</td>\n      <td>148</td>\n      <td>1</td>\n      <td>4</td>\n      <td>877019411</td>\n    </tr>\n    <tr>\n      <th>3</th>\n      <td>1</td>\n      <td>Toy Story (1995)</td>\n      <td>280</td>\n      <td>1</td>\n      <td>4</td>\n      <td>891700426</td>\n    </tr>\n    <tr>\n      <th>4</th>\n      <td>1</td>\n      <td>Toy Story (1995)</td>\n      <td>66</td>\n      <td>1</td>\n      <td>3</td>\n      <td>883601324</td>\n    </tr>\n  </tbody>\n</table>\n</div>"
          },
          "metadata": {}
        }
      ]
    },
    {
      "cell_type": "markdown",
      "source": "## What if you want to join on one index?",
      "metadata": {}
    },
    {
      "cell_type": "code",
      "source": "movies = movies.set_index('m_id')\nmovies.head()",
      "metadata": {
        "trusted": true
      },
      "execution_count": 20,
      "outputs": [
        {
          "execution_count": 20,
          "output_type": "execute_result",
          "data": {
            "text/plain": "                  title\nm_id                   \n1      Toy Story (1995)\n2      GoldenEye (1995)\n3     Four Rooms (1995)\n4     Get Shorty (1995)\n5        Copycat (1995)",
            "text/html": "<div>\n<table border=\"1\" class=\"dataframe\">\n  <thead>\n    <tr style=\"text-align: right;\">\n      <th></th>\n      <th>title</th>\n    </tr>\n    <tr>\n      <th>m_id</th>\n      <th></th>\n    </tr>\n  </thead>\n  <tbody>\n    <tr>\n      <th>1</th>\n      <td>Toy Story (1995)</td>\n    </tr>\n    <tr>\n      <th>2</th>\n      <td>GoldenEye (1995)</td>\n    </tr>\n    <tr>\n      <th>3</th>\n      <td>Four Rooms (1995)</td>\n    </tr>\n    <tr>\n      <th>4</th>\n      <td>Get Shorty (1995)</td>\n    </tr>\n    <tr>\n      <th>5</th>\n      <td>Copycat (1995)</td>\n    </tr>\n  </tbody>\n</table>\n</div>"
          },
          "metadata": {}
        }
      ]
    },
    {
      "cell_type": "code",
      "source": "pd.merge(movies, ratings, left_index=True, right_on='movie_id').head()",
      "metadata": {
        "trusted": true
      },
      "execution_count": null,
      "outputs": []
    },
    {
      "cell_type": "markdown",
      "source": "## What if you want to join on two indexes?",
      "metadata": {}
    },
    {
      "cell_type": "code",
      "source": "ratings = ratings.set_index('movie_id')\nratings.head()",
      "metadata": {
        "trusted": true
      },
      "execution_count": null,
      "outputs": []
    },
    {
      "cell_type": "code",
      "source": "pd.merge(movies, ratings, left_index=True, right_index=True).head()",
      "metadata": {},
      "execution_count": 21,
      "outputs": [
        {
          "execution_count": 21,
          "output_type": "execute_result",
          "data": {
            "text/html": "<div>\n<style scoped>\n    .dataframe tbody tr th:only-of-type {\n        vertical-align: middle;\n    }\n\n    .dataframe tbody tr th {\n        vertical-align: top;\n    }\n\n    .dataframe thead th {\n        text-align: right;\n    }\n</style>\n<table border=\"1\" class=\"dataframe\">\n  <thead>\n    <tr style=\"text-align: right;\">\n      <th></th>\n      <th>title</th>\n      <th>user_id</th>\n      <th>rating</th>\n      <th>timestamp</th>\n    </tr>\n  </thead>\n  <tbody>\n    <tr>\n      <th>1</th>\n      <td>Toy Story (1995)</td>\n      <td>308</td>\n      <td>4</td>\n      <td>887736532</td>\n    </tr>\n    <tr>\n      <th>1</th>\n      <td>Toy Story (1995)</td>\n      <td>287</td>\n      <td>5</td>\n      <td>875334088</td>\n    </tr>\n    <tr>\n      <th>1</th>\n      <td>Toy Story (1995)</td>\n      <td>148</td>\n      <td>4</td>\n      <td>877019411</td>\n    </tr>\n    <tr>\n      <th>1</th>\n      <td>Toy Story (1995)</td>\n      <td>280</td>\n      <td>4</td>\n      <td>891700426</td>\n    </tr>\n    <tr>\n      <th>1</th>\n      <td>Toy Story (1995)</td>\n      <td>66</td>\n      <td>3</td>\n      <td>883601324</td>\n    </tr>\n  </tbody>\n</table>\n</div>",
            "text/plain": "              title  user_id  rating  timestamp\n1  Toy Story (1995)      308       4  887736532\n1  Toy Story (1995)      287       5  875334088\n1  Toy Story (1995)      148       4  877019411\n1  Toy Story (1995)      280       4  891700426\n1  Toy Story (1995)       66       3  883601324"
          },
          "metadata": {}
        }
      ]
    },
    {
      "cell_type": "markdown",
      "source": "# Part 4: Four Types of Joins",
      "metadata": {}
    },
    {
      "cell_type": "markdown",
      "source": "There are actually four types of joins supported by the Pandas `merge` function. Here's how they are described by the documentation:\n\n- **inner:** use intersection of keys from both frames, similar to a SQL inner join; preserve the order of the left keys\n- **outer:** use union of keys from both frames, similar to a SQL full outer join; sort keys lexicographically\n- **left:** use only keys from left frame, similar to a SQL left outer join; preserve key order\n- **right:** use only keys from right frame, similar to a SQL right outer join; preserve key order\n\nThe default is the \"inner join\", which was used when creating the movie_ratings DataFrame.\n\nIt's easiest to understand the different types by looking at some simple examples:",
      "metadata": {}
    },
    {
      "cell_type": "markdown",
      "source": "## Example DataFrames A and B",
      "metadata": {}
    },
    {
      "cell_type": "code",
      "source": "A = pd.DataFrame({'color': ['green', 'yellow', 'red'], 'num':[1, 2, 3]})\nA",
      "metadata": {},
      "execution_count": 22,
      "outputs": [
        {
          "execution_count": 22,
          "output_type": "execute_result",
          "data": {
            "text/html": "<div>\n<style scoped>\n    .dataframe tbody tr th:only-of-type {\n        vertical-align: middle;\n    }\n\n    .dataframe tbody tr th {\n        vertical-align: top;\n    }\n\n    .dataframe thead th {\n        text-align: right;\n    }\n</style>\n<table border=\"1\" class=\"dataframe\">\n  <thead>\n    <tr style=\"text-align: right;\">\n      <th></th>\n      <th>color</th>\n      <th>num</th>\n    </tr>\n  </thead>\n  <tbody>\n    <tr>\n      <th>0</th>\n      <td>green</td>\n      <td>1</td>\n    </tr>\n    <tr>\n      <th>1</th>\n      <td>yellow</td>\n      <td>2</td>\n    </tr>\n    <tr>\n      <th>2</th>\n      <td>red</td>\n      <td>3</td>\n    </tr>\n  </tbody>\n</table>\n</div>",
            "text/plain": "    color  num\n0   green    1\n1  yellow    2\n2     red    3"
          },
          "metadata": {}
        }
      ]
    },
    {
      "cell_type": "code",
      "source": "B = pd.DataFrame({'color': ['green', 'yellow', 'pink'], 'size':['S', 'M', 'L']})\nB",
      "metadata": {},
      "execution_count": 23,
      "outputs": [
        {
          "execution_count": 23,
          "output_type": "execute_result",
          "data": {
            "text/html": "<div>\n<style scoped>\n    .dataframe tbody tr th:only-of-type {\n        vertical-align: middle;\n    }\n\n    .dataframe tbody tr th {\n        vertical-align: top;\n    }\n\n    .dataframe thead th {\n        text-align: right;\n    }\n</style>\n<table border=\"1\" class=\"dataframe\">\n  <thead>\n    <tr style=\"text-align: right;\">\n      <th></th>\n      <th>color</th>\n      <th>size</th>\n    </tr>\n  </thead>\n  <tbody>\n    <tr>\n      <th>0</th>\n      <td>green</td>\n      <td>S</td>\n    </tr>\n    <tr>\n      <th>1</th>\n      <td>yellow</td>\n      <td>M</td>\n    </tr>\n    <tr>\n      <th>2</th>\n      <td>pink</td>\n      <td>L</td>\n    </tr>\n  </tbody>\n</table>\n</div>",
            "text/plain": "    color size\n0   green    S\n1  yellow    M\n2    pink    L"
          },
          "metadata": {}
        }
      ]
    },
    {
      "cell_type": "markdown",
      "source": "## Inner join\n\nOnly include observations found in both A and B:",
      "metadata": {}
    },
    {
      "cell_type": "code",
      "source": "pd.merge(A, B, how='inner')",
      "metadata": {},
      "execution_count": 24,
      "outputs": [
        {
          "execution_count": 24,
          "output_type": "execute_result",
          "data": {
            "text/html": "<div>\n<style scoped>\n    .dataframe tbody tr th:only-of-type {\n        vertical-align: middle;\n    }\n\n    .dataframe tbody tr th {\n        vertical-align: top;\n    }\n\n    .dataframe thead th {\n        text-align: right;\n    }\n</style>\n<table border=\"1\" class=\"dataframe\">\n  <thead>\n    <tr style=\"text-align: right;\">\n      <th></th>\n      <th>color</th>\n      <th>num</th>\n      <th>size</th>\n    </tr>\n  </thead>\n  <tbody>\n    <tr>\n      <th>0</th>\n      <td>green</td>\n      <td>1</td>\n      <td>S</td>\n    </tr>\n    <tr>\n      <th>1</th>\n      <td>yellow</td>\n      <td>2</td>\n      <td>M</td>\n    </tr>\n  </tbody>\n</table>\n</div>",
            "text/plain": "    color  num size\n0   green    1    S\n1  yellow    2    M"
          },
          "metadata": {}
        }
      ]
    },
    {
      "cell_type": "markdown",
      "source": "## Outer join\n\nInclude observations found in either A or B:",
      "metadata": {}
    },
    {
      "cell_type": "code",
      "source": "pd.merge(A, B, how='outer')",
      "metadata": {},
      "execution_count": 25,
      "outputs": [
        {
          "execution_count": 25,
          "output_type": "execute_result",
          "data": {
            "text/html": "<div>\n<style scoped>\n    .dataframe tbody tr th:only-of-type {\n        vertical-align: middle;\n    }\n\n    .dataframe tbody tr th {\n        vertical-align: top;\n    }\n\n    .dataframe thead th {\n        text-align: right;\n    }\n</style>\n<table border=\"1\" class=\"dataframe\">\n  <thead>\n    <tr style=\"text-align: right;\">\n      <th></th>\n      <th>color</th>\n      <th>num</th>\n      <th>size</th>\n    </tr>\n  </thead>\n  <tbody>\n    <tr>\n      <th>0</th>\n      <td>green</td>\n      <td>1.0</td>\n      <td>S</td>\n    </tr>\n    <tr>\n      <th>1</th>\n      <td>yellow</td>\n      <td>2.0</td>\n      <td>M</td>\n    </tr>\n    <tr>\n      <th>2</th>\n      <td>red</td>\n      <td>3.0</td>\n      <td>NaN</td>\n    </tr>\n    <tr>\n      <th>3</th>\n      <td>pink</td>\n      <td>NaN</td>\n      <td>L</td>\n    </tr>\n  </tbody>\n</table>\n</div>",
            "text/plain": "    color  num size\n0   green  1.0    S\n1  yellow  2.0    M\n2     red  3.0  NaN\n3    pink  NaN    L"
          },
          "metadata": {}
        }
      ]
    },
    {
      "cell_type": "markdown",
      "source": "## Left join\n\nInclude all observations found in A:",
      "metadata": {}
    },
    {
      "cell_type": "code",
      "source": "pd.merge(A, B, how='left')",
      "metadata": {},
      "execution_count": 26,
      "outputs": [
        {
          "execution_count": 26,
          "output_type": "execute_result",
          "data": {
            "text/html": "<div>\n<style scoped>\n    .dataframe tbody tr th:only-of-type {\n        vertical-align: middle;\n    }\n\n    .dataframe tbody tr th {\n        vertical-align: top;\n    }\n\n    .dataframe thead th {\n        text-align: right;\n    }\n</style>\n<table border=\"1\" class=\"dataframe\">\n  <thead>\n    <tr style=\"text-align: right;\">\n      <th></th>\n      <th>color</th>\n      <th>num</th>\n      <th>size</th>\n    </tr>\n  </thead>\n  <tbody>\n    <tr>\n      <th>0</th>\n      <td>green</td>\n      <td>1</td>\n      <td>S</td>\n    </tr>\n    <tr>\n      <th>1</th>\n      <td>yellow</td>\n      <td>2</td>\n      <td>M</td>\n    </tr>\n    <tr>\n      <th>2</th>\n      <td>red</td>\n      <td>3</td>\n      <td>NaN</td>\n    </tr>\n  </tbody>\n</table>\n</div>",
            "text/plain": "    color  num size\n0   green    1    S\n1  yellow    2    M\n2     red    3  NaN"
          },
          "metadata": {}
        }
      ]
    },
    {
      "cell_type": "markdown",
      "source": "## Right join\n\nInclude all observations found in B:",
      "metadata": {}
    },
    {
      "cell_type": "code",
      "source": "pd.merge(A, B, how='right')",
      "metadata": {},
      "execution_count": 27,
      "outputs": [
        {
          "execution_count": 27,
          "output_type": "execute_result",
          "data": {
            "text/html": "<div>\n<style scoped>\n    .dataframe tbody tr th:only-of-type {\n        vertical-align: middle;\n    }\n\n    .dataframe tbody tr th {\n        vertical-align: top;\n    }\n\n    .dataframe thead th {\n        text-align: right;\n    }\n</style>\n<table border=\"1\" class=\"dataframe\">\n  <thead>\n    <tr style=\"text-align: right;\">\n      <th></th>\n      <th>color</th>\n      <th>num</th>\n      <th>size</th>\n    </tr>\n  </thead>\n  <tbody>\n    <tr>\n      <th>0</th>\n      <td>green</td>\n      <td>1.0</td>\n      <td>S</td>\n    </tr>\n    <tr>\n      <th>1</th>\n      <td>yellow</td>\n      <td>2.0</td>\n      <td>M</td>\n    </tr>\n    <tr>\n      <th>2</th>\n      <td>pink</td>\n      <td>NaN</td>\n      <td>L</td>\n    </tr>\n  </tbody>\n</table>\n</div>",
            "text/plain": "    color  num size\n0   green  1.0    S\n1  yellow  2.0    M\n2    pink  NaN    L"
          },
          "metadata": {}
        }
      ]
    }
  ]
}